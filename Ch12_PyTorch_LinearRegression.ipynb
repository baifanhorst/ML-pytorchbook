{
 "cells": [
  {
   "cell_type": "markdown",
   "id": "ecbae9d6",
   "metadata": {},
   "source": [
    "## Summary\n",
    "(1) If we have a tensor that stores data, we can use torch.utils.data.TensorDataset to create a dataset.   \n",
    "(2) For manual implementation of linear regression, the key is the operations in for each batch. We get the prediction of the batch first, which is then used for calculating the loss. During these calculations, the connection between the loss and the model parameters are automatically constructed (the computation graph) by pytorch. Then we can use the backward function to find the derivatives, which is used to update parameters. Finally, we need to set the gradients to zeros for the next batch.   \n",
    "(3) For pytorch implementation of linear regression, we don't need to define the linear model and the loss function by ourselves. Instead, we use existing functions. Also, we do not manually implement gradient descent. We use an optimizer function to do this."
   ]
  },
  {
   "cell_type": "code",
   "execution_count": 35,
   "id": "4752d048",
   "metadata": {},
   "outputs": [],
   "source": [
    "import numpy as np\n",
    "import matplotlib.pyplot as plt\n",
    "\n",
    "from torch.utils.data import TensorDataset\n",
    "from torch.utils.data import DataLoader\n",
    "import torch"
   ]
  },
  {
   "cell_type": "code",
   "execution_count": 36,
   "id": "174efabd",
   "metadata": {},
   "outputs": [],
   "source": [
    "# Create a toy dataset\n",
    "# Create feature data X_train\n",
    "# Note that the array is reshaped into a column vector.\n",
    "# Later on, we will use torch.from_numpy to convert this column vector into a tensor.\n",
    "# torch.from_numpy will keep the shape of the array. Thus we will get a tensor with a single column\n",
    "# This is required by pytorch, because in feature data should be stored such that each row corresponds to a single example\n",
    "# On the other hand, there is no need to reshape the label data y_train. \n",
    "# By concention, pytorch use 1D tensor for the labels.\n",
    "X_train = np.arange(10, dtype='float32').reshape(10, 1)\n",
    "y_train = np.array([1.0, 1.3, 3.1, 2.0, 5.0, 6.3, 6.6, 7.4, 8.0, 9.0], dtype='float32')"
   ]
  },
  {
   "cell_type": "code",
   "execution_count": 37,
   "id": "aa1c3782",
   "metadata": {
    "scrolled": false
   },
   "outputs": [
    {
     "data": {
      "text/plain": [
       "<matplotlib.collections.PathCollection at 0x274f4c4dee0>"
      ]
     },
     "execution_count": 37,
     "metadata": {},
     "output_type": "execute_result"
    },
    {
     "data": {
      "image/png": "[encoded data removed]",
      "text/plain": [
       "<Figure size 640x480 with 1 Axes>"
      ]
     },
     "metadata": {},
     "output_type": "display_data"
    }
   ],
   "source": [
    "# Visualize the dataset\n",
    "fig = plt.figure()\n",
    "ax = fig.add_subplot(111)\n",
    "ax.scatter(X_train, y_train, marker='o', s=100)"
   ]
  },
  {
   "cell_type": "code",
   "execution_count": 39,
   "id": "aa6e0874",
   "metadata": {},
   "outputs": [],
   "source": [
    "# Normalizing the data\n",
    "# ??? Do not quite understand why normalization is necessary.\n",
    "X_train_norm = (X_train - np.mean(X_train)) / np.std(X_train)\n",
    "# Create a torch tensor for the features\n",
    "X_train_norm_tensor = torch.from_numpy(X_train_norm)\n",
    "# Create a torch tensor for the labels\n",
    "y_train_tensor = torch.from_numpy(y_train)"
   ]
  },
  {
   "cell_type": "code",
   "execution_count": 40,
   "id": "e68fe4cb",
   "metadata": {},
   "outputs": [],
   "source": [
    "# Create a dataset and a dataloader\n",
    "# Note that we can directly use an existing function in pytorch, TensorDataset, rather than define a dataset class by ourselves.\n",
    "# This is because we have a tensor at hand.\n",
    "ds_train = torch.utils.data.TensorDataset(X_train_norm_tensor, y_train_tensor)\n",
    "dl_train = torch.utils.data.DataLoader(ds_train, batch_size=1, shuffle=True)"
   ]
  },
  {
   "cell_type": "code",
   "execution_count": 41,
   "id": "f48d9367",
   "metadata": {},
   "outputs": [],
   "source": [
    "# Define a linear regression model\n",
    "# Initialize the weight with a random number.\n",
    "torch.manual_seed(1)\n",
    "weight = torch.randn(1)\n",
    "# Since we need the gradient of the loss wrt weights, we require the weight tensor to store their gradients\n",
    "weight.requires_grad_()\n",
    "# This is another way of claiming the requirement for gradients\n",
    "bias = torch.zeros(1, requires_grad=True)\n",
    "def model(xb):\n",
    "    # @: this is short-handed way of torch.matmul()\n",
    "    return xb @ weight + bias\n"
   ]
  },
  {
   "cell_type": "code",
   "execution_count": 42,
   "id": "11872777",
   "metadata": {},
   "outputs": [],
   "source": [
    "# Define a loss function\n",
    "def loss_fn(prediction, target):\n",
    "    # both prediction and target are vectors\n",
    "    # Therefore, there is a mean() at the end\n",
    "    return (prediction-target).pow(2).mean()"
   ]
  },
  {
   "cell_type": "code",
   "execution_count": 43,
   "id": "41f0b415",
   "metadata": {
    "scrolled": true
   },
   "outputs": [
    {
     "name": "stdout",
     "output_type": "stream",
     "text": [
      "Epoch 0 Loss 46.57198715209961\n",
      "Epoch 10 Loss 27.150222778320312\n",
      "Epoch 20 Loss 1.6445956230163574\n",
      "Epoch 30 Loss 14.45706844329834\n",
      "Epoch 40 Loss 11.78266429901123\n",
      "Epoch 50 Loss 6.412241458892822\n",
      "Epoch 60 Loss 0.6338688135147095\n",
      "Epoch 70 Loss 3.1561715602874756\n",
      "Epoch 80 Loss 2.010047197341919\n",
      "Epoch 90 Loss 0.3107231855392456\n",
      "Epoch 100 Loss 0.7625206112861633\n",
      "Epoch 110 Loss 1.0023512840270996\n",
      "Epoch 120 Loss 0.023156199604272842\n",
      "Epoch 130 Loss 0.5138028860092163\n",
      "Epoch 140 Loss 0.0741419717669487\n",
      "Epoch 150 Loss 1.871219277381897\n",
      "Epoch 160 Loss 0.0006759515963494778\n",
      "Epoch 170 Loss 0.08502652496099472\n",
      "Epoch 180 Loss 0.06339222192764282\n",
      "Epoch 190 Loss 0.0012209871783852577\n"
     ]
    }
   ],
   "source": [
    "# Implementing linear regression manually\n",
    "learning_rate = 0.001\n",
    "num_epoch = 200\n",
    "log_epoch = 10 # Use to print the current loss during iteration\n",
    "for epoch in range(num_epoch):\n",
    "    for x_batch, y_batch in dl_train:\n",
    "        # This is the same as torch.matmul(x_batch, weight) + bias\n",
    "        pred = model(x_batch)\n",
    "        # Calculate the loss\n",
    "        loss = loss_fn(pred, y_batch)\n",
    "        # Calculate the gradient of the loss wrt weight and bias\n",
    "        # The partial derivatives are stored alongside with weight and bias\n",
    "        loss.backward()\n",
    "    # 'with torch.no_grad():' start a code block where gradient computation is disabled\n",
    "    with torch.no_grad():\n",
    "        # weight.grad: partial Loss partial weight\n",
    "        weight -= weight.grad * learning_rate\n",
    "        bias -= bias.grad * learning_rate\n",
    "        # This sets the gradients of a tensor to zero\n",
    "        # ChatGPT: In PyTorch, when we call backward() on a tensor x, \n",
    "        # the gradients of x are accumulated in the x.grad attribute. \n",
    "        # This means that if we don't reset the gradients to zero \n",
    "        # before computing the gradients for a new batch or sample, \n",
    "        # the gradients will be accumulated across multiple iterations \n",
    "        # and lead to incorrect gradients and training. \n",
    "        # Therefore, it is important to reset the gradients \n",
    "        # before computing the gradients for a new batch or sample.\n",
    "        weight.grad.zero_()\n",
    "        bias.grad.zero_()\n",
    "    if epoch % log_epoch ==0:\n",
    "        print(f\"Epoch {epoch} Loss {loss.item()}\")"
   ]
  },
  {
   "cell_type": "code",
   "execution_count": 44,
   "id": "22531973",
   "metadata": {
    "scrolled": true
   },
   "outputs": [
    {
     "name": "stdout",
     "output_type": "stream",
     "text": [
      "Weight: 2.670930862426758\n",
      "bias: 4.88258695602417\n"
     ]
    }
   ],
   "source": [
    "# Show fitted parameters\n",
    "# weight.item extracts the scalar from the weight tensor\n",
    "print(\"Weight:\", weight.item())\n",
    "print(\"bias:\", bias.item())"
   ]
  },
  {
   "cell_type": "code",
   "execution_count": 45,
   "id": "32acebd9",
   "metadata": {
    "scrolled": false
   },
   "outputs": [
    {
     "data": {
      "text/plain": [
       "[<matplotlib.lines.Line2D at 0x274f4cc1430>]"
      ]
     },
     "execution_count": 45,
     "metadata": {},
     "output_type": "execute_result"
    },
    {
     "data": {
      "image/png": "[encoded data removed]",
      "text/plain": [
       "<Figure size 640x480 with 1 Axes>"
      ]
     },
     "metadata": {},
     "output_type": "display_data"
    }
   ],
   "source": [
    "# Visualization\n",
    "X_test = np.linspace(0, 9, 100, dtype='float32').reshape(-1, 1)\n",
    "X_test_norm = (X_test - np.mean(X_test)) / np.std(X_test)\n",
    "X_test_norm_tensor = torch.from_numpy(X_test_norm)\n",
    "y_pred = model(X_test_norm_tensor).detach().numpy()\n",
    "# detach() creates a new tensor that copy the original tensor without its gradient.\n",
    "\n",
    "\n",
    "\n",
    "fig = plt.figure()\n",
    "ax = fig.add_subplot(111)\n",
    "ax.scatter(X_train_norm_tensor, y_train_tensor, marker='o', s=100)\n",
    "ax.plot(X_test_norm_tensor, y_pred, linestyle=\"--\")"
   ]
  },
  {
   "cell_type": "markdown",
   "id": "f6ecc724",
   "metadata": {},
   "source": [
    "## Using existing functions"
   ]
  },
  {
   "cell_type": "code",
   "execution_count": 46,
   "id": "19a194c7",
   "metadata": {},
   "outputs": [],
   "source": [
    "# Loss function, see below for more explanations\n",
    "loss_fn = torch.nn.MSELoss(reduction='mean')\n",
    "# Linear model, see below for more explanations\n",
    "model = torch.nn.Linear(in_features=1, out_features=1)\n",
    "# Stochastic gradient descent\n",
    "# We need to provide at least two arguments: model parameters and learning rate\n",
    "# The model parameters are specified via model.parameters()\n",
    "# model.parameters() returns an iterator over the model's parameters.\n",
    "optimizer = torch.optim.SGD(model.parameters(), lr=0.001)"
   ]
  },
  {
   "cell_type": "code",
   "execution_count": 47,
   "id": "a7afacc7",
   "metadata": {},
   "outputs": [],
   "source": [
    "# Try a different batch size\n",
    "dl_train = torch.utils.data.DataLoader(ds_train, batch_size=2, shuffle=True)"
   ]
  },
  {
   "cell_type": "markdown",
   "id": "8a49deb6",
   "metadata": {},
   "source": [
    "I tried different batch sizes. It seems that batch_size=1 is the best."
   ]
  },
  {
   "cell_type": "code",
   "execution_count": 48,
   "id": "4883e197",
   "metadata": {
    "scrolled": true
   },
   "outputs": [
    {
     "name": "stdout",
     "output_type": "stream",
     "text": [
      "Epoch 0 Loss 43.43412780761719\n",
      "Epoch 10 Loss 20.916259765625\n",
      "Epoch 20 Loss 15.00023078918457\n",
      "Epoch 30 Loss 0.22231706976890564\n",
      "Epoch 40 Loss 24.636737823486328\n",
      "Epoch 50 Loss 18.813777923583984\n",
      "Epoch 60 Loss 24.533966064453125\n",
      "Epoch 70 Loss 11.496208190917969\n",
      "Epoch 80 Loss 3.2024848461151123\n",
      "Epoch 90 Loss 6.5843071937561035\n",
      "Epoch 100 Loss 6.808850288391113\n",
      "Epoch 110 Loss 8.456554412841797\n",
      "Epoch 120 Loss 1.774774432182312\n",
      "Epoch 130 Loss 0.19836652278900146\n",
      "Epoch 140 Loss 2.518380880355835\n",
      "Epoch 150 Loss 1.635271430015564\n",
      "Epoch 160 Loss 1.3537408113479614\n",
      "Epoch 170 Loss 0.4487612843513489\n",
      "Epoch 180 Loss 1.6394603252410889\n",
      "Epoch 190 Loss 0.7331166863441467\n"
     ]
    }
   ],
   "source": [
    "num_epoch = 200\n",
    "log_epoch = 10\n",
    "for epoch in range(num_epoch):\n",
    "    for x_batch, y_batch in dl_train:\n",
    "        pred = model(x_batch)[:, 0] # See explanations below for why using [:,0]\n",
    "        loss = loss_fn(pred, y_batch)\n",
    "        loss.backward()\n",
    "        optimizer.step()\n",
    "        optimizer.zero_grad()\n",
    "    if epoch % log_epoch ==0:\n",
    "        print(f\"Epoch {epoch} Loss {loss.item()}\")"
   ]
  },
  {
   "cell_type": "code",
   "execution_count": 49,
   "id": "1bdddbbb",
   "metadata": {
    "scrolled": true
   },
   "outputs": [
    {
     "name": "stdout",
     "output_type": "stream",
     "text": [
      "Weight: 2.281066417694092\n",
      "Bias: 4.282294273376465\n"
     ]
    }
   ],
   "source": [
    "print(\"Weight:\", model.weight.item())\n",
    "print(\"Bias:\", model.bias.item())"
   ]
  },
  {
   "cell_type": "code",
   "execution_count": 50,
   "id": "a62c16f4",
   "metadata": {
    "scrolled": false
   },
   "outputs": [
    {
     "data": {
      "text/plain": [
       "[<matplotlib.lines.Line2D at 0x274f4ce8730>]"
      ]
     },
     "execution_count": 50,
     "metadata": {},
     "output_type": "execute_result"
    },
    {
     "data": {
      "image/png": "[encoded data removed]",
      "text/plain": [
       "<Figure size 640x480 with 1 Axes>"
      ]
     },
     "metadata": {},
     "output_type": "display_data"
    }
   ],
   "source": [
    "# Visualization\n",
    "X_test = np.linspace(0, 9, 100, dtype='float32').reshape(-1, 1)\n",
    "X_test_norm = (X_test - np.mean(X_test)) / np.std(X_test)\n",
    "X_test_norm_tensor = torch.from_numpy(X_test_norm)\n",
    "y_pred = model(X_test_norm_tensor).detach().numpy()\n",
    "# detach() creates a new tensor that copy the original tensor without its gradient.\n",
    "\n",
    "fig = plt.figure()\n",
    "ax = fig.add_subplot(111)\n",
    "ax.scatter(X_train_norm_tensor, y_train_tensor, marker='o', s=100)\n",
    "ax.plot(X_test_norm_tensor, y_pred, linestyle=\"--\")"
   ]
  },
  {
   "cell_type": "markdown",
   "id": "cbca6474",
   "metadata": {},
   "source": [
    "## More explanations on the above implementation"
   ]
  },
  {
   "cell_type": "code",
   "execution_count": 51,
   "id": "ae97172c",
   "metadata": {
    "scrolled": true
   },
   "outputs": [
    {
     "name": "stdout",
     "output_type": "stream",
     "text": [
      "Loss: tensor(1.)\n"
     ]
    }
   ],
   "source": [
    "# Loss function\n",
    "# Use torch.nn.MSELoss to create a loss function\n",
    "# This loss takes tensors as inputs\n",
    "\n",
    "# Predictions\n",
    "pred = torch.tensor([1.,2.,3.])\n",
    "# Target labels\n",
    "label = torch.tensor([2.,3.,4.])\n",
    "# Create a loss function\n",
    "mse_loss = torch.nn.MSELoss()\n",
    "# Print the calculated loss\n",
    "print(\"Loss:\", mse_loss(pred, label))"
   ]
  },
  {
   "cell_type": "code",
   "execution_count": 52,
   "id": "01011129",
   "metadata": {
    "scrolled": true
   },
   "outputs": [
    {
     "name": "stdout",
     "output_type": "stream",
     "text": [
      "Loss_mean: tensor(1.)\n",
      "Loss_sum: tensor(3.)\n",
      "Loss_none: tensor([1., 1., 1.])\n"
     ]
    }
   ],
   "source": [
    "# More options on torch.nn.MSELoss\n",
    "\n",
    "# The default setting: the loss is an average of squared difference\n",
    "mse_loss = torch.nn.MSELoss(reduction='mean')\n",
    "print(\"Loss_mean:\", mse_loss(pred, label))\n",
    "\n",
    "# Sum the squares without taking average\n",
    "mse_loss = torch.nn.MSELoss(reduction='sum')\n",
    "print(\"Loss_sum:\", mse_loss(pred, label))\n",
    "\n",
    "# Generate individual squares\n",
    "mse_loss = torch.nn.MSELoss(reduction='none')\n",
    "print(\"Loss_none:\", mse_loss(pred, label))"
   ]
  },
  {
   "cell_type": "code",
   "execution_count": 53,
   "id": "a78e3a83",
   "metadata": {
    "scrolled": true
   },
   "outputs": [
    {
     "name": "stdout",
     "output_type": "stream",
     "text": [
      "Weight: Parameter containing:\n",
      "tensor([[0.6230, 0.6594]], requires_grad=True)\n",
      "Bias: Parameter containing:\n",
      "tensor([-0.4158], requires_grad=True)\n"
     ]
    }
   ],
   "source": [
    "# Linear transformation\n",
    "linear_model = torch.nn.Linear(in_features=2, out_features=1)\n",
    "print(\"Weight:\", linear_model.weight)\n",
    "print(\"Bias:\", linear_model.bias)"
   ]
  },
  {
   "cell_type": "code",
   "execution_count": 54,
   "id": "b751c289",
   "metadata": {
    "scrolled": true
   },
   "outputs": [
    {
     "name": "stdout",
     "output_type": "stream",
     "text": [
      "Weight: Parameter containing:\n",
      "tensor([[-0.0199,  0.5754, -0.3748],\n",
      "        [-0.0904, -0.3962,  0.4166]], requires_grad=True)\n",
      "Bias: Parameter containing:\n",
      "tensor([0.0936, 0.2403], requires_grad=True)\n"
     ]
    }
   ],
   "source": [
    "linear_model = torch.nn.Linear(in_features=3, out_features=2)\n",
    "print(\"Weight:\", linear_model.weight)\n",
    "print(\"Bias:\", linear_model.bias)"
   ]
  },
  {
   "cell_type": "code",
   "execution_count": 55,
   "id": "bafdc683",
   "metadata": {
    "scrolled": true
   },
   "outputs": [
    {
     "name": "stdout",
     "output_type": "stream",
     "text": [
      "Weight: Parameter containing:\n",
      "tensor([[0.7176]], requires_grad=True)\n",
      "Bias: Parameter containing:\n",
      "tensor([-0.1587], requires_grad=True)\n"
     ]
    }
   ],
   "source": [
    "linear_model = torch.nn.Linear(in_features=1, out_features=1)\n",
    "print(\"Weight:\", linear_model.weight)\n",
    "print(\"Bias:\", linear_model.bias)"
   ]
  },
  {
   "cell_type": "markdown",
   "id": "75724852",
   "metadata": {},
   "source": [
    "From the above results, we can see that the weight is a matrix (2D tensor) and the bias is a vector (1D tensor). Even when input and output are both scalars, the dimensions of the weight and bias remain unchanged. This is for consistency. "
   ]
  },
  {
   "cell_type": "code",
   "execution_count": 56,
   "id": "0426d92c",
   "metadata": {
    "scrolled": true
   },
   "outputs": [
    {
     "name": "stdout",
     "output_type": "stream",
     "text": [
      "Weight: -0.9995875358581543\n",
      "Bias: 0.04896879196166992\n"
     ]
    }
   ],
   "source": [
    "# When the weight and bias are scalars, we can extract these values by .item()\n",
    "linear_model = torch.nn.Linear(in_features=1, out_features=1)\n",
    "print(\"Weight:\", linear_model.weight.item())\n",
    "print(\"Bias:\", linear_model.bias.item())"
   ]
  },
  {
   "cell_type": "markdown",
   "id": "15852733",
   "metadata": {},
   "source": [
    "ChatGPT: The nitialization of the weight and bias is done by the Xavier initialization (the Glorot initialization)."
   ]
  },
  {
   "cell_type": "code",
   "execution_count": 57,
   "id": "af0fcd11",
   "metadata": {},
   "outputs": [],
   "source": [
    "# Stochastic gradient descent\n",
    "# Explanation of a single epoch\n",
    "\n",
    "# Again, we define the loss function, the linear model, the optimizer\n",
    "loss_fn = torch.nn.MSELoss(reduction='mean')\n",
    "model = torch.nn.Linear(in_features=1, out_features=1)\n",
    "optimizer = torch.optim.SGD(model.parameters(), lr=0.001)\n"
   ]
  },
  {
   "cell_type": "code",
   "execution_count": 58,
   "id": "8c6065ec",
   "metadata": {},
   "outputs": [],
   "source": [
    "# Create a dataset and a dataloader\n",
    "ds_train = TensorDataset(X_train_norm_tensor, y_train_tensor)\n",
    "dl_train = DataLoader(ds_train, batch_size=1, shuffle=True)"
   ]
  },
  {
   "cell_type": "code",
   "execution_count": 59,
   "id": "976cb5a1",
   "metadata": {
    "scrolled": false
   },
   "outputs": [
    {
     "name": "stdout",
     "output_type": "stream",
     "text": [
      "tensor([[-1.2185]])\n",
      "tensor([[0.4570]], grad_fn=<AddmmBackward0>)\n",
      "tensor([[-0.1741]])\n",
      "tensor([[0.3761]], grad_fn=<AddmmBackward0>)\n",
      "tensor([[0.1741]])\n",
      "tensor([[0.3492]], grad_fn=<AddmmBackward0>)\n",
      "tensor([[1.5667]])\n",
      "tensor([[0.2414]], grad_fn=<AddmmBackward0>)\n",
      "tensor([[0.5222]])\n",
      "tensor([[0.3223]], grad_fn=<AddmmBackward0>)\n",
      "tensor([[-0.8704]])\n",
      "tensor([[0.4300]], grad_fn=<AddmmBackward0>)\n",
      "tensor([[-1.5667]])\n",
      "tensor([[0.4839]], grad_fn=<AddmmBackward0>)\n",
      "tensor([[-0.5222]])\n",
      "tensor([[0.4031]], grad_fn=<AddmmBackward0>)\n",
      "tensor([[0.8704]])\n",
      "tensor([[0.2953]], grad_fn=<AddmmBackward0>)\n",
      "tensor([[1.2185]])\n",
      "tensor([[0.2684]], grad_fn=<AddmmBackward0>)\n"
     ]
    }
   ],
   "source": [
    "# Show the result of a single epoch\n",
    "num_epoch = 1\n",
    "for epoch in range(num_epoch):\n",
    "    for x_batch, y_batch in dl_train:\n",
    "        print(x_batch)\n",
    "        pred = model(x_batch)\n",
    "        print(pred)"
   ]
  },
  {
   "cell_type": "markdown",
   "id": "57763b26",
   "metadata": {},
   "source": [
    "We can see that the result 'pred' is a 2D tensor, even if each time a single value is fed to the model."
   ]
  },
  {
   "cell_type": "code",
   "execution_count": 60,
   "id": "50cc0764",
   "metadata": {},
   "outputs": [],
   "source": [
    "# Use a different batch size\n",
    "dl_train = DataLoader(ds_train, batch_size=2, shuffle=True)"
   ]
  },
  {
   "cell_type": "code",
   "execution_count": 61,
   "id": "c98db78e",
   "metadata": {
    "scrolled": true
   },
   "outputs": [
    {
     "name": "stdout",
     "output_type": "stream",
     "text": [
      "tensor([[1.2185],\n",
      "        [0.8704]])\n",
      "tensor([[0.2684],\n",
      "        [0.2953]], grad_fn=<AddmmBackward0>)\n",
      "tensor([[-1.5667],\n",
      "        [ 0.1741]])\n",
      "tensor([[0.4839],\n",
      "        [0.3492]], grad_fn=<AddmmBackward0>)\n",
      "tensor([[-0.5222],\n",
      "        [-1.2185]])\n",
      "tensor([[0.4031],\n",
      "        [0.4570]], grad_fn=<AddmmBackward0>)\n",
      "tensor([[1.5667],\n",
      "        [0.5222]])\n",
      "tensor([[0.2414],\n",
      "        [0.3223]], grad_fn=<AddmmBackward0>)\n",
      "tensor([[-0.8704],\n",
      "        [-0.1741]])\n",
      "tensor([[0.4300],\n",
      "        [0.3761]], grad_fn=<AddmmBackward0>)\n"
     ]
    }
   ],
   "source": [
    "# Show the result of a single epoch\n",
    "num_epoch = 1\n",
    "for epoch in range(num_epoch):\n",
    "    for x_batch, y_batch in dl_train:\n",
    "        print(x_batch)\n",
    "        pred = model(x_batch)\n",
    "        print(pred)"
   ]
  },
  {
   "cell_type": "markdown",
   "id": "c84cf1ea",
   "metadata": {},
   "source": [
    "Now we can see that each input is a 2D column vector. The output 'pred' is also a 2D column vector. Thus, we can see that in the previous case, even we fed the model with a single value each time, the single value was regarded as a 2D column vector with a single entry."
   ]
  },
  {
   "cell_type": "code",
   "execution_count": 62,
   "id": "a9094933",
   "metadata": {
    "scrolled": false
   },
   "outputs": [
    {
     "name": "stdout",
     "output_type": "stream",
     "text": [
      "tensor([3.1000, 5.0000])\n"
     ]
    }
   ],
   "source": [
    "# y_batch is a 1D tensor\n",
    "print(y_batch)"
   ]
  },
  {
   "cell_type": "code",
   "execution_count": 63,
   "id": "019607a4",
   "metadata": {},
   "outputs": [
    {
     "name": "stdout",
     "output_type": "stream",
     "text": [
      "tensor([[0.4300],\n",
      "        [0.3761]], grad_fn=<AddmmBackward0>)\n",
      "tensor([3.1000, 5.0000])\n",
      "tensor(14.2032, grad_fn=<MseLossBackward0>)\n"
     ]
    },
    {
     "name": "stderr",
     "output_type": "stream",
     "text": [
      "C:\\Users\\bai_f\\anaconda3\\lib\\site-packages\\torch\\nn\\modules\\loss.py:536: UserWarning: Using a target size (torch.Size([2])) that is different to the input size (torch.Size([2, 1])). This will likely lead to incorrect results due to broadcasting. Please ensure they have the same size.\n",
      "  return F.mse_loss(input, target, reduction=self.reduction)\n"
     ]
    }
   ],
   "source": [
    "# The dimensions of pred and y_batch do not match, so there is a warning when first executing the code\n",
    "print(pred)\n",
    "print(y_batch)\n",
    "loss = loss_fn(pred, y_batch)\n",
    "print(loss)"
   ]
  },
  {
   "cell_type": "code",
   "execution_count": 64,
   "id": "478526a3",
   "metadata": {
    "scrolled": true
   },
   "outputs": [
    {
     "name": "stdout",
     "output_type": "stream",
     "text": [
      "tensor([0.4300, 0.3761], grad_fn=<SelectBackward0>)\n"
     ]
    }
   ],
   "source": [
    "# Now we use indexing to get convert pred into a 1D tensor\n",
    "pred = model(x_batch)[:, 0]\n",
    "print(pred)"
   ]
  },
  {
   "cell_type": "code",
   "execution_count": 65,
   "id": "c24dca7c",
   "metadata": {},
   "outputs": [
    {
     "name": "stdout",
     "output_type": "stream",
     "text": [
      "tensor(14.2544, grad_fn=<MseLossBackward0>)\n"
     ]
    }
   ],
   "source": [
    "# Now we calculate loss again. This time the two dimensions match.\n",
    "loss = loss_fn(pred, y_batch)\n",
    "print(loss)"
   ]
  },
  {
   "cell_type": "code",
   "execution_count": 66,
   "id": "ec7bbfae",
   "metadata": {},
   "outputs": [],
   "source": [
    "# Backward propagation to get partial derivatives\n",
    "loss.backward()\n",
    "# This fulfills gradient descent\n",
    "optimizer.step()\n",
    "# This sets gradient to zero, which is necessary for training for multiple epochs\n",
    "optimizer.zero_grad()\n"
   ]
  }
 ],
 "metadata": {
  "kernelspec": {
   "display_name": "Python 3 (ipykernel)",
   "language": "python",
   "name": "python3"
  },
  "language_info": {
   "codemirror_mode": {
    "name": "ipython",
    "version": 3
   },
   "file_extension": ".py",
   "mimetype": "text/x-python",
   "name": "python",
   "nbconvert_exporter": "python",
   "pygments_lexer": "ipython3",
   "version": "3.9.13"
  }
 },
 "nbformat": 4,
 "nbformat_minor": 5
}
