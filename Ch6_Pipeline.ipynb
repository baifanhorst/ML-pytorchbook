{
 "cells": [
  {
   "cell_type": "markdown",
   "id": "77ddbb2e",
   "metadata": {},
   "source": [
    "## Outline   \n",
    "(1) Pipeline   \n",
    "(2) Cross validation   \n",
    "(3) Grid search, random search for hyperparameter tuning\n",
    "(4) Learning curve, validation curve   \n",
    "(5) Various metrics (confusion matrix, precision, recall, ROC, matthew correlation coefficient)   \n",
    "(6) Sampling from imbalanced data"
   ]
  },
  {
   "cell_type": "code",
   "execution_count": 1,
   "id": "033c9b7b",
   "metadata": {},
   "outputs": [],
   "source": [
    "import pandas as pd\n",
    "import numpy as np\n",
    "import matplotlib.pyplot as plt\n",
    "from matplotlib.colors import ListedColormap\n",
    "from sklearn.preprocessing import LabelEncoder\n",
    "from sklearn.model_selection import train_test_split\n",
    "from sklearn.preprocessing import StandardScaler\n",
    "from sklearn.decomposition import PCA\n",
    "from sklearn.linear_model import LogisticRegression\n",
    "from sklearn.pipeline import make_pipeline\n",
    "\n",
    "from sklearn.model_selection import StratifiedKFold\n",
    "from sklearn.model_selection import cross_val_score\n",
    "\n",
    "from sklearn.model_selection import learning_curve\n",
    "from sklearn.model_selection import validation_curve\n",
    "\n",
    "from sklearn.model_selection import GridSearchCV\n",
    "from sklearn.svm import SVC\n",
    "\n",
    "import scipy\n",
    "\n",
    "from sklearn.model_selection import RandomizedSearchCV\n",
    "\n",
    "from sklearn.experimental import enable_halving_search_cv\n",
    "from sklearn.model_selection import HalvingRandomSearchCV\n",
    "\n",
    "from sklearn.tree import DecisionTreeClassifier\n",
    "\n",
    "from sklearn.metrics import confusion_matrix\n",
    "from sklearn.metrics import precision_score\n",
    "from sklearn.metrics import recall_score\n",
    "from sklearn.metrics import f1_score\n",
    "from sklearn.metrics import matthews_corrcoef\n",
    "\n",
    "from sklearn.metrics import make_scorer\n",
    "\n",
    "from sklearn.metrics import roc_curve, auc\n",
    "\n",
    "from sklearn.utils import resample"
   ]
  },
  {
   "cell_type": "code",
   "execution_count": 2,
   "id": "b0f44cb4",
   "metadata": {},
   "outputs": [],
   "source": [
    "# Load the Breast Cancer Wisconsin Dataset\n",
    "df = pd.read_csv(\"https://archive.ics.uci.edu/ml/machine-learning-databases/breast-cancer-wisconsin/wdbc.data\", header=None)\n",
    "# There is no column labels in the data, so header=None is required. Otherwise, the first row would be treated as column labels."
   ]
  },
  {
   "cell_type": "code",
   "execution_count": 3,
   "id": "87c2c172",
   "metadata": {
    "scrolled": false
   },
   "outputs": [
    {
     "data": {
      "text/html": [
       "<div>\n",
       "<style scoped>\n",
       "    .dataframe tbody tr th:only-of-type {\n",
       "        vertical-align: middle;\n",
       "    }\n",
       "\n",
       "    .dataframe tbody tr th {\n",
       "        vertical-align: top;\n",
       "    }\n",
       "\n",
       "    .dataframe thead th {\n",
       "        text-align: right;\n",
       "    }\n",
       "</style>\n",
       "<table border=\"1\" class=\"dataframe\">\n",
       "  <thead>\n",
       "    <tr style=\"text-align: right;\">\n",
       "      <th></th>\n",
       "      <th>ID</th>\n",
       "      <th>Diagnoses</th>\n",
       "      <th>2</th>\n",
       "      <th>3</th>\n",
       "      <th>4</th>\n",
       "      <th>5</th>\n",
       "      <th>6</th>\n",
       "      <th>7</th>\n",
       "      <th>8</th>\n",
       "      <th>9</th>\n",
       "      <th>...</th>\n",
       "      <th>22</th>\n",
       "      <th>23</th>\n",
       "      <th>24</th>\n",
       "      <th>25</th>\n",
       "      <th>26</th>\n",
       "      <th>27</th>\n",
       "      <th>28</th>\n",
       "      <th>29</th>\n",
       "      <th>30</th>\n",
       "      <th>31</th>\n",
       "    </tr>\n",
       "  </thead>\n",
       "  <tbody>\n",
       "    <tr>\n",
       "      <th>0</th>\n",
       "      <td>842302</td>\n",
       "      <td>M</td>\n",
       "      <td>17.99</td>\n",
       "      <td>10.38</td>\n",
       "      <td>122.80</td>\n",
       "      <td>1001.0</td>\n",
       "      <td>0.11840</td>\n",
       "      <td>0.27760</td>\n",
       "      <td>0.30010</td>\n",
       "      <td>0.14710</td>\n",
       "      <td>...</td>\n",
       "      <td>25.380</td>\n",
       "      <td>17.33</td>\n",
       "      <td>184.60</td>\n",
       "      <td>2019.0</td>\n",
       "      <td>0.16220</td>\n",
       "      <td>0.66560</td>\n",
       "      <td>0.7119</td>\n",
       "      <td>0.2654</td>\n",
       "      <td>0.4601</td>\n",
       "      <td>0.11890</td>\n",
       "    </tr>\n",
       "    <tr>\n",
       "      <th>1</th>\n",
       "      <td>842517</td>\n",
       "      <td>M</td>\n",
       "      <td>20.57</td>\n",
       "      <td>17.77</td>\n",
       "      <td>132.90</td>\n",
       "      <td>1326.0</td>\n",
       "      <td>0.08474</td>\n",
       "      <td>0.07864</td>\n",
       "      <td>0.08690</td>\n",
       "      <td>0.07017</td>\n",
       "      <td>...</td>\n",
       "      <td>24.990</td>\n",
       "      <td>23.41</td>\n",
       "      <td>158.80</td>\n",
       "      <td>1956.0</td>\n",
       "      <td>0.12380</td>\n",
       "      <td>0.18660</td>\n",
       "      <td>0.2416</td>\n",
       "      <td>0.1860</td>\n",
       "      <td>0.2750</td>\n",
       "      <td>0.08902</td>\n",
       "    </tr>\n",
       "    <tr>\n",
       "      <th>2</th>\n",
       "      <td>84300903</td>\n",
       "      <td>M</td>\n",
       "      <td>19.69</td>\n",
       "      <td>21.25</td>\n",
       "      <td>130.00</td>\n",
       "      <td>1203.0</td>\n",
       "      <td>0.10960</td>\n",
       "      <td>0.15990</td>\n",
       "      <td>0.19740</td>\n",
       "      <td>0.12790</td>\n",
       "      <td>...</td>\n",
       "      <td>23.570</td>\n",
       "      <td>25.53</td>\n",
       "      <td>152.50</td>\n",
       "      <td>1709.0</td>\n",
       "      <td>0.14440</td>\n",
       "      <td>0.42450</td>\n",
       "      <td>0.4504</td>\n",
       "      <td>0.2430</td>\n",
       "      <td>0.3613</td>\n",
       "      <td>0.08758</td>\n",
       "    </tr>\n",
       "    <tr>\n",
       "      <th>3</th>\n",
       "      <td>84348301</td>\n",
       "      <td>M</td>\n",
       "      <td>11.42</td>\n",
       "      <td>20.38</td>\n",
       "      <td>77.58</td>\n",
       "      <td>386.1</td>\n",
       "      <td>0.14250</td>\n",
       "      <td>0.28390</td>\n",
       "      <td>0.24140</td>\n",
       "      <td>0.10520</td>\n",
       "      <td>...</td>\n",
       "      <td>14.910</td>\n",
       "      <td>26.50</td>\n",
       "      <td>98.87</td>\n",
       "      <td>567.7</td>\n",
       "      <td>0.20980</td>\n",
       "      <td>0.86630</td>\n",
       "      <td>0.6869</td>\n",
       "      <td>0.2575</td>\n",
       "      <td>0.6638</td>\n",
       "      <td>0.17300</td>\n",
       "    </tr>\n",
       "    <tr>\n",
       "      <th>4</th>\n",
       "      <td>84358402</td>\n",
       "      <td>M</td>\n",
       "      <td>20.29</td>\n",
       "      <td>14.34</td>\n",
       "      <td>135.10</td>\n",
       "      <td>1297.0</td>\n",
       "      <td>0.10030</td>\n",
       "      <td>0.13280</td>\n",
       "      <td>0.19800</td>\n",
       "      <td>0.10430</td>\n",
       "      <td>...</td>\n",
       "      <td>22.540</td>\n",
       "      <td>16.67</td>\n",
       "      <td>152.20</td>\n",
       "      <td>1575.0</td>\n",
       "      <td>0.13740</td>\n",
       "      <td>0.20500</td>\n",
       "      <td>0.4000</td>\n",
       "      <td>0.1625</td>\n",
       "      <td>0.2364</td>\n",
       "      <td>0.07678</td>\n",
       "    </tr>\n",
       "    <tr>\n",
       "      <th>...</th>\n",
       "      <td>...</td>\n",
       "      <td>...</td>\n",
       "      <td>...</td>\n",
       "      <td>...</td>\n",
       "      <td>...</td>\n",
       "      <td>...</td>\n",
       "      <td>...</td>\n",
       "      <td>...</td>\n",
       "      <td>...</td>\n",
       "      <td>...</td>\n",
       "      <td>...</td>\n",
       "      <td>...</td>\n",
       "      <td>...</td>\n",
       "      <td>...</td>\n",
       "      <td>...</td>\n",
       "      <td>...</td>\n",
       "      <td>...</td>\n",
       "      <td>...</td>\n",
       "      <td>...</td>\n",
       "      <td>...</td>\n",
       "      <td>...</td>\n",
       "    </tr>\n",
       "    <tr>\n",
       "      <th>564</th>\n",
       "      <td>926424</td>\n",
       "      <td>M</td>\n",
       "      <td>21.56</td>\n",
       "      <td>22.39</td>\n",
       "      <td>142.00</td>\n",
       "      <td>1479.0</td>\n",
       "      <td>0.11100</td>\n",
       "      <td>0.11590</td>\n",
       "      <td>0.24390</td>\n",
       "      <td>0.13890</td>\n",
       "      <td>...</td>\n",
       "      <td>25.450</td>\n",
       "      <td>26.40</td>\n",
       "      <td>166.10</td>\n",
       "      <td>2027.0</td>\n",
       "      <td>0.14100</td>\n",
       "      <td>0.21130</td>\n",
       "      <td>0.4107</td>\n",
       "      <td>0.2216</td>\n",
       "      <td>0.2060</td>\n",
       "      <td>0.07115</td>\n",
       "    </tr>\n",
       "    <tr>\n",
       "      <th>565</th>\n",
       "      <td>926682</td>\n",
       "      <td>M</td>\n",
       "      <td>20.13</td>\n",
       "      <td>28.25</td>\n",
       "      <td>131.20</td>\n",
       "      <td>1261.0</td>\n",
       "      <td>0.09780</td>\n",
       "      <td>0.10340</td>\n",
       "      <td>0.14400</td>\n",
       "      <td>0.09791</td>\n",
       "      <td>...</td>\n",
       "      <td>23.690</td>\n",
       "      <td>38.25</td>\n",
       "      <td>155.00</td>\n",
       "      <td>1731.0</td>\n",
       "      <td>0.11660</td>\n",
       "      <td>0.19220</td>\n",
       "      <td>0.3215</td>\n",
       "      <td>0.1628</td>\n",
       "      <td>0.2572</td>\n",
       "      <td>0.06637</td>\n",
       "    </tr>\n",
       "    <tr>\n",
       "      <th>566</th>\n",
       "      <td>926954</td>\n",
       "      <td>M</td>\n",
       "      <td>16.60</td>\n",
       "      <td>28.08</td>\n",
       "      <td>108.30</td>\n",
       "      <td>858.1</td>\n",
       "      <td>0.08455</td>\n",
       "      <td>0.10230</td>\n",
       "      <td>0.09251</td>\n",
       "      <td>0.05302</td>\n",
       "      <td>...</td>\n",
       "      <td>18.980</td>\n",
       "      <td>34.12</td>\n",
       "      <td>126.70</td>\n",
       "      <td>1124.0</td>\n",
       "      <td>0.11390</td>\n",
       "      <td>0.30940</td>\n",
       "      <td>0.3403</td>\n",
       "      <td>0.1418</td>\n",
       "      <td>0.2218</td>\n",
       "      <td>0.07820</td>\n",
       "    </tr>\n",
       "    <tr>\n",
       "      <th>567</th>\n",
       "      <td>927241</td>\n",
       "      <td>M</td>\n",
       "      <td>20.60</td>\n",
       "      <td>29.33</td>\n",
       "      <td>140.10</td>\n",
       "      <td>1265.0</td>\n",
       "      <td>0.11780</td>\n",
       "      <td>0.27700</td>\n",
       "      <td>0.35140</td>\n",
       "      <td>0.15200</td>\n",
       "      <td>...</td>\n",
       "      <td>25.740</td>\n",
       "      <td>39.42</td>\n",
       "      <td>184.60</td>\n",
       "      <td>1821.0</td>\n",
       "      <td>0.16500</td>\n",
       "      <td>0.86810</td>\n",
       "      <td>0.9387</td>\n",
       "      <td>0.2650</td>\n",
       "      <td>0.4087</td>\n",
       "      <td>0.12400</td>\n",
       "    </tr>\n",
       "    <tr>\n",
       "      <th>568</th>\n",
       "      <td>92751</td>\n",
       "      <td>B</td>\n",
       "      <td>7.76</td>\n",
       "      <td>24.54</td>\n",
       "      <td>47.92</td>\n",
       "      <td>181.0</td>\n",
       "      <td>0.05263</td>\n",
       "      <td>0.04362</td>\n",
       "      <td>0.00000</td>\n",
       "      <td>0.00000</td>\n",
       "      <td>...</td>\n",
       "      <td>9.456</td>\n",
       "      <td>30.37</td>\n",
       "      <td>59.16</td>\n",
       "      <td>268.6</td>\n",
       "      <td>0.08996</td>\n",
       "      <td>0.06444</td>\n",
       "      <td>0.0000</td>\n",
       "      <td>0.0000</td>\n",
       "      <td>0.2871</td>\n",
       "      <td>0.07039</td>\n",
       "    </tr>\n",
       "  </tbody>\n",
       "</table>\n",
       "<p>569 rows × 32 columns</p>\n",
       "</div>"
      ],
      "text/plain": [
       "           ID Diagnoses      2      3       4       5        6        7  \\\n",
       "0      842302         M  17.99  10.38  122.80  1001.0  0.11840  0.27760   \n",
       "1      842517         M  20.57  17.77  132.90  1326.0  0.08474  0.07864   \n",
       "2    84300903         M  19.69  21.25  130.00  1203.0  0.10960  0.15990   \n",
       "3    84348301         M  11.42  20.38   77.58   386.1  0.14250  0.28390   \n",
       "4    84358402         M  20.29  14.34  135.10  1297.0  0.10030  0.13280   \n",
       "..        ...       ...    ...    ...     ...     ...      ...      ...   \n",
       "564    926424         M  21.56  22.39  142.00  1479.0  0.11100  0.11590   \n",
       "565    926682         M  20.13  28.25  131.20  1261.0  0.09780  0.10340   \n",
       "566    926954         M  16.60  28.08  108.30   858.1  0.08455  0.10230   \n",
       "567    927241         M  20.60  29.33  140.10  1265.0  0.11780  0.27700   \n",
       "568     92751         B   7.76  24.54   47.92   181.0  0.05263  0.04362   \n",
       "\n",
       "           8        9  ...      22     23      24      25       26       27  \\\n",
       "0    0.30010  0.14710  ...  25.380  17.33  184.60  2019.0  0.16220  0.66560   \n",
       "1    0.08690  0.07017  ...  24.990  23.41  158.80  1956.0  0.12380  0.18660   \n",
       "2    0.19740  0.12790  ...  23.570  25.53  152.50  1709.0  0.14440  0.42450   \n",
       "3    0.24140  0.10520  ...  14.910  26.50   98.87   567.7  0.20980  0.86630   \n",
       "4    0.19800  0.10430  ...  22.540  16.67  152.20  1575.0  0.13740  0.20500   \n",
       "..       ...      ...  ...     ...    ...     ...     ...      ...      ...   \n",
       "564  0.24390  0.13890  ...  25.450  26.40  166.10  2027.0  0.14100  0.21130   \n",
       "565  0.14400  0.09791  ...  23.690  38.25  155.00  1731.0  0.11660  0.19220   \n",
       "566  0.09251  0.05302  ...  18.980  34.12  126.70  1124.0  0.11390  0.30940   \n",
       "567  0.35140  0.15200  ...  25.740  39.42  184.60  1821.0  0.16500  0.86810   \n",
       "568  0.00000  0.00000  ...   9.456  30.37   59.16   268.6  0.08996  0.06444   \n",
       "\n",
       "         28      29      30       31  \n",
       "0    0.7119  0.2654  0.4601  0.11890  \n",
       "1    0.2416  0.1860  0.2750  0.08902  \n",
       "2    0.4504  0.2430  0.3613  0.08758  \n",
       "3    0.6869  0.2575  0.6638  0.17300  \n",
       "4    0.4000  0.1625  0.2364  0.07678  \n",
       "..      ...     ...     ...      ...  \n",
       "564  0.4107  0.2216  0.2060  0.07115  \n",
       "565  0.3215  0.1628  0.2572  0.06637  \n",
       "566  0.3403  0.1418  0.2218  0.07820  \n",
       "567  0.9387  0.2650  0.4087  0.12400  \n",
       "568  0.0000  0.0000  0.2871  0.07039  \n",
       "\n",
       "[569 rows x 32 columns]"
      ]
     },
     "execution_count": 3,
     "metadata": {},
     "output_type": "execute_result"
    }
   ],
   "source": [
    "df.rename(columns={0:\"ID\", 1:\"Diagnoses\"})\n",
    "# The first column stores the IDs of the patients.\n",
    "# The second column stores the diagnoses of the patients: malignant(M), benign(B)"
   ]
  },
  {
   "cell_type": "code",
   "execution_count": 4,
   "id": "23e79904",
   "metadata": {},
   "outputs": [],
   "source": [
    "# Extract feature values and class labels\n",
    "X = df.iloc[:, 2:].values\n",
    "y = df.iloc[:, 1].values"
   ]
  },
  {
   "cell_type": "code",
   "execution_count": 5,
   "id": "ace2ee55",
   "metadata": {},
   "outputs": [],
   "source": [
    "# Transform the class labels (strings) to integers\n",
    "le = LabelEncoder()\n",
    "y = le.fit_transform(y)"
   ]
  },
  {
   "cell_type": "code",
   "execution_count": 6,
   "id": "c37db814",
   "metadata": {},
   "outputs": [
    {
     "name": "stdout",
     "output_type": "stream",
     "text": [
      "['B' 'M']\n",
      "[0 1]\n"
     ]
    }
   ],
   "source": [
    "# To see the relation between the new labels and the old ones:\n",
    "print(le.classes_) # This shows all possible old class labels\n",
    "print(le.transform(['B', 'M'])) # This shows how to transform an old label to a new one: $B->0$, $M->1$"
   ]
  },
  {
   "cell_type": "code",
   "execution_count": 7,
   "id": "c3fe50ee",
   "metadata": {},
   "outputs": [],
   "source": [
    "# Split the data into a training set and a testing set\n",
    "X_train, X_test, y_train, y_test = train_test_split(X, y, test_size=0.2, stratify=y, random_state=1)"
   ]
  },
  {
   "cell_type": "code",
   "execution_count": 8,
   "id": "d3da8d51",
   "metadata": {},
   "outputs": [],
   "source": [
    "# Pipeline implementation of normalization, PCA, linear regression\n",
    "pipe_lr = make_pipeline(StandardScaler(), PCA(n_components=2), LogisticRegression())\n",
    "pipe_lr.fit(X_train, y_train)\n",
    "y_pred = pipe_lr.predict(X_test)"
   ]
  },
  {
   "cell_type": "code",
   "execution_count": 9,
   "id": "29165d20",
   "metadata": {
    "scrolled": false
   },
   "outputs": [
    {
     "name": "stdout",
     "output_type": "stream",
     "text": [
      "Test accuracy: 0.956140350877193\n"
     ]
    }
   ],
   "source": [
    "# Accuracy of prediction\n",
    "# This is the ratio between #corrected predictions and #all test examples.\n",
    "test_acc = pipe_lr.score(X_test, y_test)\n",
    "print(\"Test accuracy:\", test_acc)"
   ]
  },
  {
   "cell_type": "code",
   "execution_count": 10,
   "id": "bbcdbe36",
   "metadata": {},
   "outputs": [],
   "source": [
    "# Step-by-step implementation\n",
    "# An advantage of this implementation is that we can get the principal components for visualization.\n",
    "\n",
    "# Standardization\n",
    "# Create a scaler\n",
    "stdsc = StandardScaler()\n",
    "# Fit and transform the training set\n",
    "X_train_std = stdsc.fit_transform(X_train)\n",
    "# Transform the testing set with the same scaler\n",
    "X_test_std = stdsc.transform(X_test)"
   ]
  },
  {
   "cell_type": "code",
   "execution_count": 11,
   "id": "13ae8250",
   "metadata": {},
   "outputs": [],
   "source": [
    "# PCA\n",
    "pca = PCA(n_components=2)\n",
    "X_train_pca = pca.fit_transform(X_train_std)\n",
    "X_test_pca = pca.transform(X_test_std)"
   ]
  },
  {
   "cell_type": "code",
   "execution_count": 12,
   "id": "f311af38",
   "metadata": {},
   "outputs": [
    {
     "data": {
      "text/plain": [
       "LogisticRegression(random_state=1)"
      ]
     },
     "execution_count": 12,
     "metadata": {},
     "output_type": "execute_result"
    }
   ],
   "source": [
    "# Logistic regression\n",
    "lr = LogisticRegression(random_state=1, solver='lbfgs')\n",
    "lr.fit(X_train_pca, y_train)"
   ]
  },
  {
   "cell_type": "code",
   "execution_count": 13,
   "id": "db8211f8",
   "metadata": {},
   "outputs": [],
   "source": [
    "# Visualization\n",
    "# Provide the testing data together with the original data.\n",
    "def plot_decision_regions2(X, y, classifier, resolution=0.02, circle_test=False, X_test=None):\n",
    "    # Create lists of markers and colors\n",
    "    markers = ('o', 's', '^', 'v', '<')\n",
    "    colors = ('red', 'blue', 'lightgreen', 'gray', 'cyan')\n",
    "    \n",
    "    # np.unique: find the unique elements of an array\n",
    "    # The output y only has two possible values, 0 and 1. Therefore np.unique(y) is 2.\n",
    "    # Then colors[:len(np.unique(y))] is colors[:2], i.e., colors = ('red', 'blue')\n",
    "    # This is suitable for discrete colors.\n",
    "    cmap = ListedColormap(colors[:len(np.unique(y))])\n",
    "    \n",
    "    # Set the range \n",
    "    # The range of the figure is larger than the range of the features.\n",
    "    # Prevent data points from lying on the edges of the figure.\n",
    "    x1_min, x1_max = X[:,0].min() - 1, X[:,0].max() + 1 \n",
    "    x2_min, x2_max = X[:,1].min() - 1, X[:,1].max() + 1 \n",
    "    # Generate meshgrid\n",
    "    xx1, xx2 = np.meshgrid(np.arange(x1_min, x1_max, resolution), np.arange(x2_min, x2_max, resolution))\n",
    "    # np.ravel(): flatten an array. It returns a 1D-array\n",
    "    # The input of the function 'predict' is X. Each column of X corresponds to a feature.\n",
    "    # Therefore, after raveling, we need to transpose the array.\n",
    "    # lab: labels for all grid points\n",
    "    lab = classifier.predict(np.array([xx1.ravel(), xx2.ravel()]).T)\n",
    "    # The output of 'predict' is a 1D-array. It is reshaped to have the same shape as xx1\n",
    "    lab = lab.reshape(xx1.shape)\n",
    "    \n",
    "    fig = plt.figure()\n",
    "    ax = fig.add_subplot(1,1,1)\n",
    "    # alpha: control the transparency\n",
    "    ax.contourf(xx1, xx2, lab, alpha=0.2, cmap=cmap)\n",
    "    \n",
    "    # Plot training examples\n",
    "    # enumerate: \n",
    "    for idx, cl in enumerate(np.unique(y)):\n",
    "        ax.scatter(x=X[y==cl,0], y=X[y==cl,1], alpha=1, c=colors[idx], marker=markers[idx], label='Class {}'.format(cl), edgecolor=\"black\")\n",
    "    \n",
    "    if circle_test:\n",
    "        # Circle testing examples\n",
    "        ax.scatter(x=X_test[:,0], y=X_test[:,1], alpha=1, c='none', marker='o', label='Test set', edgecolor=\"black\", linewidth=1, s=100)\n",
    "        # s: marker size\n",
    "    \n",
    "    ax.legend()"
   ]
  },
  {
   "cell_type": "code",
   "execution_count": 14,
   "id": "0ff57196",
   "metadata": {
    "scrolled": false
   },
   "outputs": [
    {
     "data": {
      "image/png": "[encoded data removed]",
      "text/plain": [
       "<Figure size 640x480 with 1 Axes>"
      ]
     },
     "metadata": {},
     "output_type": "display_data"
    }
   ],
   "source": [
    "# Plot all examples and circle the testing data\n",
    "# Put X_train_pca above X_test_pca\n",
    "X_pca = np.concatenate((X_train_pca, X_test_pca), axis=0)\n",
    "# We cannot use y directly, because its order is not the same as X_train_pca and X_test_pca\n",
    "# Therefore, we concatenate y_train, y_test\n",
    "y_pca = np.concatenate((y_train, y_test))\n",
    "\n",
    "# Plot\n",
    "plot_decision_regions2(X_pca, y_pca, classifier=lr, circle_test=True, X_test=X_test_pca)"
   ]
  },
  {
   "cell_type": "markdown",
   "id": "38872b71",
   "metadata": {},
   "source": [
    "# Cross validation"
   ]
  },
  {
   "cell_type": "markdown",
   "id": "3ab74e11",
   "metadata": {},
   "source": [
    "## Holdout method   \n",
    "(1) Divide the data into a training set, a validation set, and a test set.   \n",
    "(2) The model to be trained include hyperparameters, such as regularization strength. For given hyperparameter values, we train the model using the training set. Then evaluate the model with the validation set. A measure of performance should be defined at this step.    \n",
    "(3) We change the hyperparameters, and train and evaluate the model again. Then we select the parameter values corresponding to the best performance.   \n",
    "(4) Finally, we estimate the model's performance with the test set."
   ]
  },
  {
   "cell_type": "markdown",
   "id": "ccaf7db8",
   "metadata": {},
   "source": [
    "## k-fold cross validation   \n",
    "The description in the book is confusing. Here is my understanding:   \n",
    "(1) Divide the data into a training set and a test set.   \n",
    "(2) Use the training set to do cross validation. The training set is divided into k folds. We train the model with each k-1 folds, and use the rest fold to evaluate the performance. After k rounds, there are k evaluations. These evaluations are then averaged. This average is the performance corresponding to a single set of hyperparameter values. Then we change the parameter values and repeat the procedure.  \n",
    "(3) Finally, after we select the best hyperparameter values. We fit the model to the whole training data and get a final evaluation with the test set."
   ]
  },
  {
   "cell_type": "markdown",
   "id": "27485a0c",
   "metadata": {},
   "source": [
    "## Stratified k-fold cross-validation\n",
    "Make each fold have the same class proportions as the whole data set."
   ]
  },
  {
   "cell_type": "code",
   "execution_count": 15,
   "id": "c9102bf8",
   "metadata": {},
   "outputs": [],
   "source": [
    "# Stratified k-fold cross-validation\n",
    "kfold = StratifiedKFold(n_splits=10).split(X_train, y_train)\n",
    "# This is a compound notation. A step-by-step implementation is:\n",
    "# skf = StratifiedKFold(n_splits=10)\n",
    "# skf.split(X_train, y_train)"
   ]
  },
  {
   "cell_type": "code",
   "execution_count": 16,
   "id": "0f640271",
   "metadata": {
    "scrolled": true
   },
   "outputs": [
    {
     "name": "stdout",
     "output_type": "stream",
     "text": [
      "Fold:01 Class distribution:[256 153] Accuracy:0.935\n",
      "Fold:02 Class distribution:[256 153] Accuracy:0.935\n",
      "Fold:03 Class distribution:[256 153] Accuracy:0.957\n",
      "Fold:04 Class distribution:[256 153] Accuracy:0.957\n",
      "Fold:05 Class distribution:[256 153] Accuracy:0.935\n",
      "Fold:06 Class distribution:[257 153] Accuracy:0.956\n",
      "Fold:07 Class distribution:[257 153] Accuracy:0.978\n",
      "Fold:08 Class distribution:[257 153] Accuracy:0.933\n",
      "Fold:09 Class distribution:[257 153] Accuracy:0.956\n",
      "Fold:10 Class distribution:[257 153] Accuracy:0.956\n"
     ]
    }
   ],
   "source": [
    "scores = []\n",
    "for k, (train, test) in enumerate(kfold):\n",
    "    pipe_lr.fit(X_train[train], y_train[train])\n",
    "    score = pipe_lr.score(X_train[test],y_train[test])\n",
    "    # Note that the score actually belongs to the classifier in the pipeline.\n",
    "    # In this case, it is logistic regression.\n",
    "    scores.append(score)\n",
    "    print(f'Fold:{k+1:02d}', f'Class distribution:{np.bincount(y_train[train])}', f'Accuracy:{score:.3f}')\n",
    "    \n",
    "# f'...' is a way to format a string.\n",
    "# Basic format: f'..{variable}..'.\n",
    "# To specify the format of the variable: f'..{variable:format}..'"
   ]
  },
  {
   "cell_type": "code",
   "execution_count": 17,
   "id": "4030b2f6",
   "metadata": {
    "scrolled": true
   },
   "outputs": [
    {
     "name": "stdout",
     "output_type": "stream",
     "text": [
      "Accuracy: 0.9495 +/- 0.0139\n"
     ]
    }
   ],
   "source": [
    "mean_acc = np.mean(scores)\n",
    "std_acc = np.std(scores)\n",
    "print(f\"Accuracy: {mean_acc:.4f} +/- {std_acc:.4f}\")"
   ]
  },
  {
   "cell_type": "code",
   "execution_count": 18,
   "id": "843620d6",
   "metadata": {},
   "outputs": [
    {
     "name": "stdout",
     "output_type": "stream",
     "text": [
      "Accuracy: [0.93478261 0.93478261 0.95652174 0.95652174 0.93478261 0.95555556\n",
      " 0.97777778 0.93333333 0.95555556 0.95555556]\n",
      "Accuracy: 0.9495 +/- 0.0139\n"
     ]
    }
   ],
   "source": [
    "# use sklearn to get the scores\n",
    "scores_sklearn = cross_val_score(estimator=pipe_lr, X=X_train, y=y_train, cv=10, n_jobs=1)\n",
    "print(f\"Accuracy: {scores_sklearn}\")\n",
    "\n",
    "# n_jobs: number of jobs to run in parallel. Training the estimator and computing the score are parallelized over the cross-validation splits.\n",
    "# cv: number of folds\n",
    "\n",
    "mean_acc = np.mean(scores_sklearn)\n",
    "std_acc = np.std(scores_sklearn)\n",
    "print(f\"Accuracy: {mean_acc:.4f} +/- {std_acc:.4f}\")"
   ]
  },
  {
   "cell_type": "code",
   "execution_count": 67,
   "id": "b69d9fc7",
   "metadata": {},
   "outputs": [],
   "source": [
    "# Learning curve from sklearn\n",
    "pipe_lr = make_pipeline(StandardScaler(), LogisticRegression(penalty='l2', max_iter=10000))\n",
    "\n",
    "train_sizes, train_scores, test_scores = \\\n",
    "            learning_curve(estimator=pipe_lr, \n",
    "                           X=X_train, y=y_train, \n",
    "                           train_sizes=np.linspace(0.1, 1.0, 10),\n",
    "                           cv=5,\n",
    "                           n_jobs=1\n",
    "                          )\n",
    "\n",
    "# train_sizes: learning_curve fits the model to data sets of increasing size.\n",
    "# The number of examples in each set is specified by train_sizes.\n",
    "# We can use a list of integers to specify the number of examples, such as train_sizes=[10, 20, 30].\n",
    "# Or we can use relative sizes as shown above. train_sizes=np.linspace(0.1, 1.0, 10) means that ten data sets are used.\n",
    "# They contain 10%, 20%, ... 100% of the whole data.\n",
    "# cv=5: for each data set, a 5-fold cross-validation is performed.\n",
    "# For example, the first set contains 10% data, and it is further splitted into 10 folds.\n",
    "\n",
    "# train_sizes: the numbers of examples in the data sets. It is an array of integers.\n",
    "# train_scores: for each data set, 5-fold cross-validation is performed. Thus, there are 5 scores for the predictions on the training set (5 folds)\n",
    "#               so currently there are 10 rows and 5 columns\n",
    "# test_scores: There are 10 scores for the predictions on the training set (1 folds)\n",
    "\n",
    "# ?? Question: when the training size is, say, 0.4, are these examples randomly sampled from the original data?"
   ]
  },
  {
   "cell_type": "code",
   "execution_count": 20,
   "id": "6d86f252",
   "metadata": {
    "scrolled": true
   },
   "outputs": [],
   "source": [
    "# Calculate the mean and standard deviation for each round of training\n",
    "train_mean = np.mean(train_scores, axis=1)\n",
    "test_mean = np.mean(test_scores, axis=1)\n",
    "\n",
    "train_std = np.std(train_scores, axis=1)\n",
    "test_std = np.std(test_scores, axis=1)\n"
   ]
  },
  {
   "cell_type": "code",
   "execution_count": 21,
   "id": "ec3e52d8",
   "metadata": {
    "scrolled": false
   },
   "outputs": [
    {
     "data": {
      "text/plain": [
       "<matplotlib.legend.Legend at 0x2532882b850>"
      ]
     },
     "execution_count": 21,
     "metadata": {},
     "output_type": "execute_result"
    },
    {
     "data": {
      "image/png": "[encoded data removed]",
      "text/plain": [
       "<Figure size 640x480 with 1 Axes>"
      ]
     },
     "metadata": {},
     "output_type": "display_data"
    }
   ],
   "source": [
    "# Plot the scores\n",
    "fig = plt.figure()\n",
    "ax = fig.add_subplot(111)\n",
    "\n",
    "ax.plot(train_sizes, train_mean, color=\"blue\", marker=\"o\", markersize=5, label=\"Training accuracy\")\n",
    "ax.fill_between(train_sizes, train_mean+train_std, train_mean-train_std, alpha=0.15, color=\"blue\")\n",
    "\n",
    "ax.plot(train_sizes, test_mean, color=\"green\", marker=\"s\", markersize=5, label=\"Validation accuracy\")\n",
    "ax.fill_between(train_sizes, test_mean+test_std, test_mean-test_std, alpha=0.15, color=\"green\")\n",
    "\n",
    "ax.set_xlabel(\"Number of training examples\")\n",
    "ax.set_ylabel(\"Accuracy\")\n",
    "\n",
    "ax.set_ylim([0.8, 1.03])\n",
    "ax.legend()"
   ]
  },
  {
   "cell_type": "code",
   "execution_count": 22,
   "id": "0d3dd243",
   "metadata": {},
   "outputs": [],
   "source": [
    "# Validation curve\n",
    "param_range = [0.001, 0.01, 0.1, 1.0, 10.0, 100.0]\n",
    "train_scores, test_scores = validation_curve(estimator=pipe_lr,\n",
    "                                             X=X_train, y=y_train, \n",
    "                                             param_name=\"logisticregression__C\",\n",
    "                                             param_range=param_range,\n",
    "                                             cv=10\n",
    "                                            )"
   ]
  },
  {
   "cell_type": "code",
   "execution_count": 23,
   "id": "8e55839f",
   "metadata": {},
   "outputs": [],
   "source": [
    "train_mean = np.mean(train_scores, axis=1)\n",
    "test_mean = np.mean(test_scores, axis=1)\n",
    "\n",
    "train_std = np.std(train_scores, axis=1)\n",
    "test_std = np.std(test_scores, axis=1)"
   ]
  },
  {
   "cell_type": "code",
   "execution_count": 24,
   "id": "37aeef7f",
   "metadata": {
    "scrolled": true
   },
   "outputs": [
    {
     "data": {
      "text/plain": [
       "<matplotlib.legend.Legend at 0x25328879b20>"
      ]
     },
     "execution_count": 24,
     "metadata": {},
     "output_type": "execute_result"
    },
    {
     "data": {
      "image/png": "[encoded data removed]",
      "text/plain": [
       "<Figure size 640x480 with 1 Axes>"
      ]
     },
     "metadata": {},
     "output_type": "display_data"
    }
   ],
   "source": [
    "# Plot the scores\n",
    "fig = plt.figure()\n",
    "ax = fig.add_subplot(111)\n",
    "\n",
    "ax.plot(param_range, train_mean, color=\"blue\", marker=\"o\", markersize=5, label=\"Training accuracy\")\n",
    "ax.fill_between(param_range, train_mean+train_std, train_mean-train_std, alpha=0.15, color=\"blue\")\n",
    "\n",
    "\n",
    "ax.plot(param_range, test_mean, color=\"green\", marker=\"s\", markersize=5, label=\"Validation accuracy\")\n",
    "ax.fill_between(param_range, test_mean+test_std, test_mean-test_std, alpha=0.15, color=\"green\")\n",
    "\n",
    "ax.set_xlabel(\"Parameter C\")\n",
    "ax.set_ylabel(\"Accuracy\")\n",
    "\n",
    "ax.set_xscale('log')\n",
    "\n",
    "ax.set_ylim([0.8, 1.03])\n",
    "ax.legend(loc=\"lower right\")"
   ]
  },
  {
   "cell_type": "markdown",
   "id": "a5e21eaa",
   "metadata": {},
   "source": [
    "## Grid search to tune hyperparameters"
   ]
  },
  {
   "cell_type": "code",
   "execution_count": 25,
   "id": "d394d866",
   "metadata": {},
   "outputs": [],
   "source": [
    "# Initialize a pipeline for svc classifier\n",
    "pipe_scv = make_pipeline(StandardScaler(), SVC(random_state=1))\n",
    "# Define the parameter range to be iterated over.\n",
    "param_range = [1e-4, 1e-3, 1e-2, 1e-1, 1, 1e1, 1e2, 1e3]\n",
    "# Define parameter grid\n",
    "# Note that the type of kernel is also a hyperparameter\n",
    "param_grid = [\n",
    "    {'svc__C':param_range,\n",
    "     'svc__kernel':['linear']\n",
    "    },\n",
    "    {'svc__C':param_range,\n",
    "     'svc__gamma':param_range,\n",
    "     'svc__kernel':['rbf']\n",
    "    }\n",
    "]\n",
    "# Initialize a grid search agent\n",
    "gs = GridSearchCV(estimator=pipe_scv,\n",
    "                  param_grid=param_grid,\n",
    "                  scoring='accuracy',\n",
    "                  cv=10,\n",
    "                  refit=True    \n",
    ")"
   ]
  },
  {
   "cell_type": "markdown",
   "id": "50026d8d",
   "metadata": {},
   "source": [
    "About SVC:   \n",
    "(1) This is a support vector machine classifier with kernel.   \n",
    "(2) It has a parameter C: the regularization strength is inversely proportional to C.   \n",
    "(3) gamma: kernel coefficient for ‘rbf’, ‘poly’ and ‘sigmoid’.   \n",
    "rbf: $$\\exp(-\\gamma||x-x'||^2)$$\n",
    "For ‘poly’ and ‘sigmoid’, $\\gamma$ has different meanings.   \n",
    "(4) random_state：“Controls the pseudo random number generation for shuffling the data for probability estimates.” （Cannot understand）   \n",
    "(5) Note that in the above pipeline, C and gamma are not specified. The values of these parameters, including the kernel types,  are searched by grid."
   ]
  },
  {
   "cell_type": "code",
   "execution_count": 26,
   "id": "cd793072",
   "metadata": {},
   "outputs": [],
   "source": [
    "# Grid search\n",
    "gs = gs.fit(X_train, y_train)"
   ]
  },
  {
   "cell_type": "code",
   "execution_count": 27,
   "id": "ec547ec7",
   "metadata": {
    "scrolled": true
   },
   "outputs": [
    {
     "name": "stdout",
     "output_type": "stream",
     "text": [
      "0.9846859903381642\n"
     ]
    }
   ],
   "source": [
    "print(gs.best_score_)"
   ]
  },
  {
   "cell_type": "code",
   "execution_count": 28,
   "id": "dbfafcfe",
   "metadata": {
    "scrolled": true
   },
   "outputs": [
    {
     "name": "stdout",
     "output_type": "stream",
     "text": [
      "{'svc__C': 100.0, 'svc__gamma': 0.001, 'svc__kernel': 'rbf'}\n"
     ]
    }
   ],
   "source": [
    "print(gs.best_params_)"
   ]
  },
  {
   "cell_type": "code",
   "execution_count": 29,
   "id": "21082fce",
   "metadata": {},
   "outputs": [
    {
     "name": "stdout",
     "output_type": "stream",
     "text": [
      "Test accuracy: 0.9736842105263158\n"
     ]
    }
   ],
   "source": [
    "# Test the best selected model\n",
    "clf = gs.best_estimator_\n",
    "clf.fit(X_train, y_train)\n",
    "print(f\"Test accuracy: {clf.score(X_test, y_test)}\")"
   ]
  },
  {
   "cell_type": "code",
   "execution_count": 30,
   "id": "e9e78377",
   "metadata": {
    "scrolled": true
   },
   "outputs": [
    {
     "data": {
      "text/plain": [
       "Pipeline(steps=[('standardscaler', StandardScaler()),\n",
       "                ('svc', SVC(C=100.0, gamma=0.001, random_state=1))])"
      ]
     },
     "execution_count": 30,
     "metadata": {},
     "output_type": "execute_result"
    }
   ],
   "source": [
    "# The best estimator is a pipeline whose parameters are specified according to the grid search.\n",
    "gs.best_estimator_"
   ]
  },
  {
   "cell_type": "code",
   "execution_count": 31,
   "id": "3b07d2db",
   "metadata": {},
   "outputs": [
    {
     "name": "stdout",
     "output_type": "stream",
     "text": [
      "Test accuracy: 0.9736842105263158\n"
     ]
    }
   ],
   "source": [
    "# Since the parameter refit is set to be True in GridSearchCV, we don't have to fit the best estimator manaully to X_train and y_train.\n",
    "# The following codes still work, withough \"clf.fit(X_train, y_train)\"\n",
    "clf = gs.best_estimator_\n",
    "print(f\"Test accuracy: {clf.score(X_test, y_test)}\")"
   ]
  },
  {
   "cell_type": "markdown",
   "id": "f53628d2",
   "metadata": {},
   "source": [
    "## Randomized search"
   ]
  },
  {
   "cell_type": "code",
   "execution_count": 32,
   "id": "6c36338e",
   "metadata": {},
   "outputs": [
    {
     "name": "stdout",
     "output_type": "stream",
     "text": [
      "[8.30145146e-02 1.10222804e+01 1.00184520e-04 1.30715777e-02\n",
      " 1.06485687e-03 4.42965766e-04 2.01289666e-03 2.62376594e-02\n",
      " 5.98924832e-02 5.91176467e-01]\n"
     ]
    }
   ],
   "source": [
    "# Randomized search\n",
    "\n",
    "# Here is the parameter range used in the grid search:\n",
    "# param_range = [1e-4, 1e-3, 1e-2, 1e-1, 1, 1e1, 1e2, 1e3]\n",
    "\n",
    "# For randomized search, we specify distribution\n",
    "param_distr = scipy.stats.loguniform(1e-4, 1e3) # The two parameters here specify the shape of the distribution.\n",
    "# Using the log uniform instead of the uniform ensures that each order of magnitude can be sampled with the same number of examples.\n",
    "\n",
    "# Check the behavior of the distribution\n",
    "np.random.seed(1) # I guess this code is to ensure repeatable result.\n",
    "print(param_distr.rvs(10)) # Generate 10 random samples"
   ]
  },
  {
   "cell_type": "code",
   "execution_count": 33,
   "id": "060b9f3f",
   "metadata": {},
   "outputs": [],
   "source": [
    "pipe_svc = make_pipeline(StandardScaler(), SVC(random_state=1))\n",
    "\n",
    "# This is similar to the grid search, but the parameter range is replaced by the distribution.\n",
    "param_grid = [\n",
    "    {'svc__C':param_distr,\n",
    "     'svc__kernel':['linear']\n",
    "    },\n",
    "    {'svc__C':param_distr,\n",
    "     'svc__gamma':param_distr,\n",
    "     'svc__kernel':['rbf']\n",
    "    }\n",
    "]\n",
    "\n",
    "rs = RandomizedSearchCV(estimator=pipe_svc,\n",
    "                        param_distributions=param_grid,\n",
    "                        scoring='accuracy',\n",
    "                        refit=True,\n",
    "                        n_iter=20,\n",
    "                        cv=10,\n",
    "                        random_state=1\n",
    "                       )\n",
    "\n",
    "# n_iter: number of parameter combinations sampled. "
   ]
  },
  {
   "cell_type": "code",
   "execution_count": 34,
   "id": "1f09561c",
   "metadata": {},
   "outputs": [],
   "source": [
    "rs = rs.fit(X_train, y_train)"
   ]
  },
  {
   "cell_type": "code",
   "execution_count": 35,
   "id": "29fb7ab8",
   "metadata": {},
   "outputs": [
    {
     "name": "stdout",
     "output_type": "stream",
     "text": [
      "0.9780676328502416\n"
     ]
    }
   ],
   "source": [
    "print(rs.best_score_)"
   ]
  },
  {
   "cell_type": "code",
   "execution_count": 36,
   "id": "b5ed074c",
   "metadata": {},
   "outputs": [
    {
     "name": "stdout",
     "output_type": "stream",
     "text": [
      "{'svc__C': 0.05971247755848464, 'svc__kernel': 'linear'}\n"
     ]
    }
   ],
   "source": [
    "print(rs.best_params_)"
   ]
  },
  {
   "cell_type": "markdown",
   "id": "ba71f979",
   "metadata": {},
   "source": [
    "## Successive halving"
   ]
  },
  {
   "cell_type": "code",
   "execution_count": 37,
   "id": "3d399209",
   "metadata": {},
   "outputs": [],
   "source": [
    "hs = HalvingRandomSearchCV(pipe_svc,\n",
    "                           param_distributions=param_grid,\n",
    "                           n_candidates='exhaust',\n",
    "                           resource='n_samples',\n",
    "                           factor=1.5,\n",
    "                           random_state=1,\n",
    "                          )\n",
    "\n",
    "# The book does not explain this method in detail. \n",
    "# Here is a rough description of the parameters:\n",
    "# factor: 1/factor examples will make it into the next round.\n",
    "# resource='n_samples': increase the size the training data at each iteration\n",
    "# n_candidate='exhaust': in the last round, all training data will be used."
   ]
  },
  {
   "cell_type": "code",
   "execution_count": 38,
   "id": "4953f99e",
   "metadata": {},
   "outputs": [],
   "source": [
    "hs = hs.fit(X_train, y_train)"
   ]
  },
  {
   "cell_type": "code",
   "execution_count": 39,
   "id": "3cabf653",
   "metadata": {},
   "outputs": [
    {
     "name": "stdout",
     "output_type": "stream",
     "text": [
      "0.9617647058823529\n"
     ]
    }
   ],
   "source": [
    "print(hs.best_score_)"
   ]
  },
  {
   "cell_type": "code",
   "execution_count": 40,
   "id": "641d59ae",
   "metadata": {
    "scrolled": true
   },
   "outputs": [
    {
     "name": "stdout",
     "output_type": "stream",
     "text": [
      "{'svc__C': 4.934834261073341, 'svc__kernel': 'linear'}\n"
     ]
    }
   ],
   "source": [
    "print(hs.best_params_)"
   ]
  },
  {
   "cell_type": "code",
   "execution_count": 41,
   "id": "66549e81",
   "metadata": {
    "scrolled": true
   },
   "outputs": [
    {
     "name": "stdout",
     "output_type": "stream",
     "text": [
      "Test accuracy: 0.9824561403508771\n"
     ]
    }
   ],
   "source": [
    "clf = hs.best_estimator_\n",
    "print(f'Test accuracy: {hs.score(X_test, y_test)}')"
   ]
  },
  {
   "cell_type": "markdown",
   "id": "933b209a",
   "metadata": {},
   "source": [
    "## Nested cross validation   \n",
    "(1) Split the data into k folds.   \n",
    "(2) For each k-1 folds, use them as training data, and the rest k fold as testing data.   \n",
    "(3) For the training data, further split it into l folds and use l-fold cross validation to train the model.   \n",
    "(4) The testing data is used to evaluate the performance of the model.   \n",
    "\n",
    "\n",
    "In sum, the outer k-fold cv splits the data into training and testing data sets, rather than training and validation sets."
   ]
  },
  {
   "cell_type": "code",
   "execution_count": 42,
   "id": "b2000839",
   "metadata": {
    "scrolled": true
   },
   "outputs": [
    {
     "name": "stdout",
     "output_type": "stream",
     "text": [
      "CV accuracy: 0.9736263736263737 +/- 0.014906219743132467\n"
     ]
    }
   ],
   "source": [
    "param_range = [1e-4, 1e-3, 1e-2, 1e-1, 1, 1e1, 1e2, 1e3]\n",
    "\n",
    "param_grid = [\n",
    "    {'svc__C':param_range,\n",
    "     'svc__kernel':['linear']\n",
    "    },\n",
    "    {'svc__C':param_range,\n",
    "     'svc__gamma':param_range,\n",
    "     'svc__kernel':['rbf']\n",
    "    }\n",
    "]\n",
    "\n",
    "gs = GridSearchCV(estimator=pipe_svc,\n",
    "                  param_grid=param_grid,\n",
    "                  scoring='accuracy',\n",
    "                  cv=2\n",
    "                 )\n",
    "\n",
    "scores = cross_val_score(gs, X_train, y_train, scoring='accuracy', cv=5)\n",
    "print(f'CV accuracy: {np.mean(scores)} +/- {np.std(scores)}')\n"
   ]
  },
  {
   "cell_type": "code",
   "execution_count": 43,
   "id": "0d1e1718",
   "metadata": {
    "scrolled": true
   },
   "outputs": [
    {
     "name": "stdout",
     "output_type": "stream",
     "text": [
      "CV accuracy: 0.9340659340659341 +/- 0.015540808377726326\n"
     ]
    }
   ],
   "source": [
    "# Nested cross validation for decision tree.\n",
    "gs = GridSearchCV(\n",
    "                    estimator=DecisionTreeClassifier(random_state=0),\n",
    "                    param_grid=[{'max_depth': [1,2,3,4,5,6,7,None]}],\n",
    "                    scoring='accuracy',\n",
    "                    cv=2\n",
    ")\n",
    "scores = cross_val_score(gs, X_train, y_train, scoring='accuracy', cv=5)\n",
    "print(f'CV accuracy: {np.mean(scores)} +/- {np.std(scores)}')"
   ]
  },
  {
   "cell_type": "markdown",
   "id": "83378976",
   "metadata": {},
   "source": [
    "## Other evaluation metrics"
   ]
  },
  {
   "cell_type": "markdown",
   "id": "69277960",
   "metadata": {},
   "source": [
    "Confusion matrix"
   ]
  },
  {
   "cell_type": "code",
   "execution_count": 44,
   "id": "ba3b0da6",
   "metadata": {
    "scrolled": false
   },
   "outputs": [
    {
     "name": "stdout",
     "output_type": "stream",
     "text": [
      "[[71  1]\n",
      " [ 2 40]]\n"
     ]
    }
   ],
   "source": [
    "# Train a support vector machine classifier.\n",
    "pipe_svc = make_pipeline(StandardScaler(), SVC(random_state=1))\n",
    "pipe_svc.fit(X_train, y_train)\n",
    "\n",
    "# Obtain the confusion matrix\n",
    "y_pred = pipe_svc.predict(X_test)\n",
    "confmat = confusion_matrix(y_true=y_test, y_pred=y_pred)\n",
    "print(confmat)"
   ]
  },
  {
   "cell_type": "code",
   "execution_count": 45,
   "id": "c2e6bba0",
   "metadata": {},
   "outputs": [
    {
     "data": {
      "text/plain": [
       "2"
      ]
     },
     "execution_count": 45,
     "metadata": {},
     "output_type": "execute_result"
    }
   ],
   "source": [
    "confmat[1,0]"
   ]
  },
  {
   "cell_type": "code",
   "execution_count": 46,
   "id": "3deb79ba",
   "metadata": {
    "scrolled": false
   },
   "outputs": [
    {
     "data": {
      "text/plain": [
       "Text(0, 0.5, 'True label')"
      ]
     },
     "execution_count": 46,
     "metadata": {},
     "output_type": "execute_result"
    },
    {
     "data": {
      "image/png": "[encoded data removed]",
      "text/plain": [
       "<Figure size 640x480 with 1 Axes>"
      ]
     },
     "metadata": {},
     "output_type": "display_data"
    }
   ],
   "source": [
    "# Visualization of the confusion matrix\n",
    "fig = plt.figure()\n",
    "ax = fig.add_subplot(111)\n",
    "\n",
    "ax.matshow(confmat, cmap=plt.cm.Blues, alpha=0.3) #???cmap=plt.cm.Blues\n",
    "\n",
    "for i in range(confmat.shape[0]):\n",
    "    for j in range(confmat.shape[1]):\n",
    "        ax.text(x=j, y=i, s=confmat[i,j], va='center', ha='center') #meaning of va and ha????\n",
    "        # Note that there is a trick here. The entry confmat[i,j] should be placed at (j,i)\n",
    "ax.xaxis.set_ticks_position('bottom')\n",
    "\n",
    "ax.set_xlabel('Predicted label')\n",
    "ax.set_ylabel('True label')\n",
    "    "
   ]
  },
  {
   "cell_type": "markdown",
   "id": "35553208",
   "metadata": {},
   "source": [
    "## Precision, Recall, Matthews Correlation Coefficient"
   ]
  },
  {
   "cell_type": "code",
   "execution_count": 47,
   "id": "22dd51a2",
   "metadata": {
    "scrolled": true
   },
   "outputs": [
    {
     "name": "stdout",
     "output_type": "stream",
     "text": [
      "Precision: 0.975609756097561\n",
      "Recall: 0.9523809523809523\n",
      "f1 score: 0.963855421686747\n",
      "MCC: 0.9433397594898876\n"
     ]
    }
   ],
   "source": [
    "# Sklearn implementation of various metrics\n",
    "pre_val = precision_score(y_true=y_test, y_pred=y_pred)\n",
    "rec_val = recall_score(y_true=y_test, y_pred=y_pred)\n",
    "f1_val = f1_score(y_true=y_test, y_pred=y_pred)\n",
    "mcc_val = matthews_corrcoef(y_true=y_test, y_pred=y_pred)\n",
    "\n",
    "print(f'Precision: {pre_val}')\n",
    "print(f'Recall: {rec_val}')\n",
    "print(f'f1 score: {f1_val}')\n",
    "print(f'MCC: {mcc_val}')"
   ]
  },
  {
   "cell_type": "code",
   "execution_count": 48,
   "id": "a8477912",
   "metadata": {},
   "outputs": [],
   "source": [
    "# Use one of the above metrics in grid search\n",
    "# Use a user-defined score\n",
    "c_gamma_range = [1e-2, 1e-1, 1, 1e1]\n",
    "param_grid = [\n",
    "    {\n",
    "        'svc__C': c_gamma_range,\n",
    "        'svc__kernel': ['linear']\n",
    "    },\n",
    "    {\n",
    "        'svc__C': c_gamma_range,\n",
    "        'svc__gamma': c_gamma_range,\n",
    "        'svc__kernel': ['rbf']\n",
    "    }\n",
    "]\n",
    "\n",
    "# Define the score to be f1_score, and the positive label is 0\n",
    "scorer = make_scorer(f1_score, pos_label=0)\n",
    "\n",
    "\n",
    "pipe_svc = make_pipeline(StandardScaler(), SVC(random_state=1))\n",
    "gs = GridSearchCV(estimator=pipe_svc, \n",
    "                  param_grid=param_grid,\n",
    "                  scoring=scorer,\n",
    "                  cv=10)"
   ]
  },
  {
   "cell_type": "code",
   "execution_count": 49,
   "id": "a2b97473",
   "metadata": {},
   "outputs": [
    {
     "data": {
      "text/plain": [
       "GridSearchCV(cv=10,\n",
       "             estimator=Pipeline(steps=[('standardscaler', StandardScaler()),\n",
       "                                       ('svc', SVC(random_state=1))]),\n",
       "             param_grid=[{'svc__C': [0.01, 0.1, 1, 10.0],\n",
       "                          'svc__kernel': ['linear']},\n",
       "                         {'svc__C': [0.01, 0.1, 1, 10.0],\n",
       "                          'svc__gamma': [0.01, 0.1, 1, 10.0],\n",
       "                          'svc__kernel': ['rbf']}],\n",
       "             scoring=make_scorer(f1_score, pos_label=0))"
      ]
     },
     "execution_count": 49,
     "metadata": {},
     "output_type": "execute_result"
    }
   ],
   "source": [
    "gs.fit(X_train, y_train)"
   ]
  },
  {
   "cell_type": "code",
   "execution_count": 50,
   "id": "a921e8cf",
   "metadata": {},
   "outputs": [
    {
     "name": "stdout",
     "output_type": "stream",
     "text": [
      "0.9861994953378878\n"
     ]
    }
   ],
   "source": [
    "print(gs.best_score_)"
   ]
  },
  {
   "cell_type": "code",
   "execution_count": 51,
   "id": "a7283491",
   "metadata": {
    "scrolled": false
   },
   "outputs": [
    {
     "name": "stdout",
     "output_type": "stream",
     "text": [
      "{'svc__C': 10.0, 'svc__gamma': 0.01, 'svc__kernel': 'rbf'}\n"
     ]
    }
   ],
   "source": [
    "print(gs.best_params_)"
   ]
  },
  {
   "cell_type": "markdown",
   "id": "e94f43f4",
   "metadata": {},
   "source": [
    "## Receiver operating characteristic (ROC)"
   ]
  },
  {
   "cell_type": "code",
   "execution_count": 52,
   "id": "2ed3d89e",
   "metadata": {},
   "outputs": [],
   "source": [
    "# Initiate a logistic regression pipeline\n",
    "pipe_lr = make_pipeline(\n",
    "    StandardScaler(),\n",
    "    PCA(n_components=2),\n",
    "    LogisticRegression(penalty='l2', random_state=1, solver='lbfgs', C=100.0)\n",
    ")"
   ]
  },
  {
   "cell_type": "code",
   "execution_count": 53,
   "id": "20d93697",
   "metadata": {},
   "outputs": [],
   "source": [
    "# Extract two columns\n",
    "X_train2 = X_train[:, [4, 14]]"
   ]
  },
  {
   "cell_type": "code",
   "execution_count": 54,
   "id": "e9bf4e5b",
   "metadata": {},
   "outputs": [
    {
     "data": {
      "text/plain": [
       "Pipeline(steps=[('standardscaler', StandardScaler()),\n",
       "                ('pca', PCA(n_components=2)),\n",
       "                ('logisticregression',\n",
       "                 LogisticRegression(C=100.0, random_state=1))])"
      ]
     },
     "execution_count": 54,
     "metadata": {},
     "output_type": "execute_result"
    }
   ],
   "source": [
    "pipe_lr.fit(X_train2, y_train)"
   ]
  },
  {
   "cell_type": "code",
   "execution_count": 55,
   "id": "fb1e0d1c",
   "metadata": {},
   "outputs": [
    {
     "data": {
      "text/plain": [
       "array([0, 1])"
      ]
     },
     "execution_count": 55,
     "metadata": {},
     "output_type": "execute_result"
    }
   ],
   "source": [
    "# The pipe_lr.classes_ attribute stores class labels\n",
    "pipe_lr.classes_"
   ]
  },
  {
   "cell_type": "code",
   "execution_count": 56,
   "id": "ec4501e9",
   "metadata": {
    "scrolled": false
   },
   "outputs": [
    {
     "data": {
      "text/plain": [
       "array([[0.5567139 , 0.4432861 ],\n",
       "       [0.66041769, 0.33958231],\n",
       "       [0.87734244, 0.12265756],\n",
       "       [0.57465886, 0.42534114],\n",
       "       [0.9766929 , 0.0233071 ]])"
      ]
     },
     "execution_count": 56,
     "metadata": {},
     "output_type": "execute_result"
    }
   ],
   "source": [
    "# pipe_lr.predict_proba predicts the probabilities of each class. Of course, they sum up to 1.\n",
    "# The probabilities are ordered according to pipe_lr.classes_\n",
    "# Since the list is long, only the probabilities for the first 5 test examples are shown.\n",
    "pipe_lr.predict_proba(X_test[:, [4, 14]])[:5,:]"
   ]
  },
  {
   "cell_type": "code",
   "execution_count": 57,
   "id": "43a5dfdb",
   "metadata": {},
   "outputs": [],
   "source": [
    "# cross validation\n",
    "skf = StratifiedKFold(n_splits=3)\n",
    "cv = list(skf.split(X_train, y_train)) #??? Do we need to turn it into a list? Can't we use directly?\n",
    "# skf.split(X_train, y_train): this gives an enumerator\n",
    "# If we turn it into a list, we will see that it has 3 entries. This coincides with the number of folds.\n",
    "# Each entry is a 2-tuple. The first entry of the tuple is a 1D numpy array, which stores the indices of the training examples.\n",
    "# The second entry of the tuple is another 1D numpy array which stores the indices of the test examples."
   ]
  },
  {
   "cell_type": "code",
   "execution_count": 58,
   "id": "1345c0e0",
   "metadata": {
    "scrolled": false
   },
   "outputs": [
    {
     "data": {
      "text/plain": [
       "<matplotlib.legend.Legend at 0x2532a3a68e0>"
      ]
     },
     "execution_count": 58,
     "metadata": {},
     "output_type": "execute_result"
    },
    {
     "data": {
      "image/png": "[encoded data removed]",
      "text/plain": [
       "<Figure size 640x480 with 1 Axes>"
      ]
     },
     "metadata": {},
     "output_type": "display_data"
    }
   ],
   "source": [
    "mean_tpr = 0.0\n",
    "\n",
    "\n",
    "x_list = np.linspace(0, 1, 101) # In the original code, this is names as mean_fpr. \n",
    "#But it does not store means. It only stores the locations where the means are taken.\n",
    "\n",
    "fig = plt.figure()\n",
    "ax = fig.add_subplot(111)\n",
    "\n",
    "for i, (train, test) in enumerate(cv):\n",
    "    # Fit the model to the current split of data\n",
    "    pipe_lr.fit(X_train2[train], y_train[train])\n",
    "    # We use the predicted probabilities on the test fold to construct an ROC curve\n",
    "    probas = pipe_lr.predict_proba(X_train2[test])\n",
    "    # Calculate the FPR, TPR, and the corresponding thresholds\n",
    "    fpr, tpr, thresholds = roc_curve(y_train[test], probas[:,1], pos_label=1) # We only need class 1 probabilities.\n",
    "    # Calculate auc\n",
    "    roc_auc = auc(fpr, tpr)\n",
    "    # Plot ROC\n",
    "    ax.plot(fpr, tpr, label=f'ROC fold {i+1} (AUC={roc_auc:.2f})')\n",
    "    \n",
    "    # Summation for a mean ROC curve\n",
    "    mean_tpr += np.interp(x_list, fpr, tpr)\n",
    "    # np.interp: linear interpolation. \n",
    "    # The original data points are given by fpr and tpr\n",
    "    # The desired function value of the interpolation function are at x_list\n",
    "    \n",
    "ax.plot([0,1],[0,1], linestyle=\"dashed\", color=\"gray\", label='Random Guess')\n",
    "\n",
    "mean_tpr /= len(cv)\n",
    "mean_tpr[0] = 0\n",
    "mean_tpr[-1] = 1\n",
    "mean_auc = auc(x_list, mean_tpr)\n",
    "ax.plot(x_list, mean_tpr, color=\"black\", label=f'Mean ROC (AUC={mean_auc:.2f})')\n",
    "\n",
    "\n",
    "ax.plot([0,1],[1,1], linestyle=\":\", color=\"gray\", label='Perfect performance')\n",
    "\n",
    "    \n",
    "    \n",
    "ax.legend()\n",
    "    "
   ]
  },
  {
   "cell_type": "markdown",
   "id": "2860367b",
   "metadata": {},
   "source": [
    "## Imbalanced data"
   ]
  },
  {
   "cell_type": "code",
   "execution_count": 59,
   "id": "15f5cc6c",
   "metadata": {},
   "outputs": [],
   "source": [
    "# Create an imbalanced data set\n",
    "X_imb = np.vstack((X[y==0], X[y==1][:40]))\n",
    "y_imb = np.hstack((y[y==0], y[y==1][:40]))"
   ]
  },
  {
   "cell_type": "code",
   "execution_count": 60,
   "id": "4009d8f3",
   "metadata": {},
   "outputs": [
    {
     "name": "stdout",
     "output_type": "stream",
     "text": [
      "Number of class 1 examples before resampling: 40\n",
      "Number of class 1 examples after resampling: 357\n"
     ]
    }
   ],
   "source": [
    "# One solution to deal with imbalanced data is to resample from a minority class\n",
    "print('Number of class 1 examples before resampling:', X_imb[y_imb==1].shape[0])\n",
    "\n",
    "X_upsampled, y_upsampled = resample(X_imb[y_imb==1], y_imb[y_imb==1], \n",
    "                                    replace=True, n_samples=X_imb[y_imb==0].shape[0], random_state=1)\n",
    "print('Number of class 1 examples after resampling:', X_upsampled.shape[0])"
   ]
  },
  {
   "cell_type": "code",
   "execution_count": 61,
   "id": "40ca4ef3",
   "metadata": {},
   "outputs": [],
   "source": [
    "# Create a balanced data set\n",
    "X_bal = np.vstack((X[y==0], X_upsampled))\n",
    "y_bal = np.hstack((y[y==0], y_upsampled))"
   ]
  }
 ],
 "metadata": {
  "kernelspec": {
   "display_name": "Python 3 (ipykernel)",
   "language": "python",
   "name": "python3"
  },
  "language_info": {
   "codemirror_mode": {
    "name": "ipython",
    "version": 3
   },
   "file_extension": ".py",
   "mimetype": "text/x-python",
   "name": "python",
   "nbconvert_exporter": "python",
   "pygments_lexer": "ipython3",
   "version": "3.9.13"
  }
 },
 "nbformat": 4,
 "nbformat_minor": 5
}
