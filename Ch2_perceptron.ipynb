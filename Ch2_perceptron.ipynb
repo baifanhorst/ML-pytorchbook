{
 "cells": [
  {
   "cell_type": "code",
   "execution_count": 11,
   "id": "134f9617",
   "metadata": {},
   "outputs": [],
   "source": [
    "import numpy as np\n",
    "import os #???\n",
    "import pandas as pd\n",
    "import matplotlib.pyplot as plt\n",
    "from matplotlib.colors import ListedColormap"
   ]
  },
  {
   "cell_type": "code",
   "execution_count": 12,
   "id": "60df8d08",
   "metadata": {},
   "outputs": [],
   "source": [
    "class Perceptron:\n",
    "    \"\"\"\n",
    "    Perceptron classifier\n",
    "    \"\"\"\n",
    "    \n",
    "    \n",
    "    def __init__(self, eta=0.01, n_iter=50, random_state=1):\n",
    "        # Initialize parameters\n",
    "        # eta: float, learning rate\n",
    "        # n_iter: int, number of iterations during training\n",
    "        # random_state: int, seed used for random initialization of weights and bias\n",
    "        self.eta = eta\n",
    "        self.n_iter = n_iter\n",
    "        self.random_state = random_state\n",
    "        \n",
    "    def fit(self, X, y):\n",
    "        # Fit the model to data (adjusting weights and bias)\n",
    "        \n",
    "        # Random generator\n",
    "        # Initialize the generator.\n",
    "        # self.random_state is a seed. rgen is a pseudo-random number generator. If the seed does not change, the result won't change either.\n",
    "        rgen = np.random.RandomState(self.random_state) \n",
    "        # randomly generate weights from a normal distribution\n",
    "        # loc: mean\n",
    "        # scale: standard deviation\n",
    "        # size: if it is a number, then return a random number. If it is a tuple, e.g. (2,3), then return an array.\n",
    "        self.w_ = rgen.normal(loc=0.0, scale=0.01, size=X.shape[1])\n",
    "        # Initialize the bias as zero.\n",
    "        # np.float_ is the float type in numpy\n",
    "        # Just ignore the difference between np.float and the float type in python at the moment.\n",
    "        self.b_ = np.float_(0.)\n",
    "        # Number of misclassifications for each iteration\n",
    "        self.errors_ = []\n",
    "        \n",
    "        for _ in range(self.n_iter):\n",
    "            # Initialize the number of misclassification\n",
    "            errors = 0\n",
    "            # Update weights and bias\n",
    "            # zip(X,y): X is a 2D-array. y is a vector. zip iterates X by using its first index\n",
    "            for xi, target in zip(X,y):\n",
    "                # Update weights and bias once for each example\n",
    "                update = self.eta * (target - self.predict(xi))\n",
    "                self.w_ += update * xi\n",
    "                self.b_ += update\n",
    "                # If update is not zero, the prediction is wrong.\n",
    "                # Then the number of misclassification +=1\n",
    "                # A more straightforward way is: \n",
    "                # if update!=0.0:\n",
    "                #    errors += 1\n",
    "                errors += int(update!=0.0)\n",
    "            self.errors_.append(errors)\n",
    "        \n",
    "        return self\n",
    "    \n",
    "    def net_input(self, X):\n",
    "        # We need to calculate z = w.x+b for each example\n",
    "        # But this can be done for all examples simultaneously\n",
    "        # Note that self.w_ is a 1D vector. np.dot(X, self.w_) gives a 1D vector, not a column vector\n",
    "        return np.dot(X, self.w_) + self.b_\n",
    "    \n",
    "    def predict(self, X):\n",
    "        return np.where(self.net_input(X)>=0.0, 1, 0)\n",
    "        # np.where: if the condition is true, return the first value, otherwise the second.\n",
    "    "
   ]
  },
  {
   "cell_type": "code",
   "execution_count": 13,
   "id": "5aa51c8d",
   "metadata": {
    "scrolled": false
   },
   "outputs": [
    {
     "data": {
      "text/html": [
       "<div>\n",
       "<style scoped>\n",
       "    .dataframe tbody tr th:only-of-type {\n",
       "        vertical-align: middle;\n",
       "    }\n",
       "\n",
       "    .dataframe tbody tr th {\n",
       "        vertical-align: top;\n",
       "    }\n",
       "\n",
       "    .dataframe thead th {\n",
       "        text-align: right;\n",
       "    }\n",
       "</style>\n",
       "<table border=\"1\" class=\"dataframe\">\n",
       "  <thead>\n",
       "    <tr style=\"text-align: right;\">\n",
       "      <th></th>\n",
       "      <th>0</th>\n",
       "      <th>1</th>\n",
       "      <th>2</th>\n",
       "      <th>3</th>\n",
       "      <th>4</th>\n",
       "    </tr>\n",
       "  </thead>\n",
       "  <tbody>\n",
       "    <tr>\n",
       "      <th>145</th>\n",
       "      <td>6.7</td>\n",
       "      <td>3.0</td>\n",
       "      <td>5.2</td>\n",
       "      <td>2.3</td>\n",
       "      <td>Iris-virginica</td>\n",
       "    </tr>\n",
       "    <tr>\n",
       "      <th>146</th>\n",
       "      <td>6.3</td>\n",
       "      <td>2.5</td>\n",
       "      <td>5.0</td>\n",
       "      <td>1.9</td>\n",
       "      <td>Iris-virginica</td>\n",
       "    </tr>\n",
       "    <tr>\n",
       "      <th>147</th>\n",
       "      <td>6.5</td>\n",
       "      <td>3.0</td>\n",
       "      <td>5.2</td>\n",
       "      <td>2.0</td>\n",
       "      <td>Iris-virginica</td>\n",
       "    </tr>\n",
       "    <tr>\n",
       "      <th>148</th>\n",
       "      <td>6.2</td>\n",
       "      <td>3.4</td>\n",
       "      <td>5.4</td>\n",
       "      <td>2.3</td>\n",
       "      <td>Iris-virginica</td>\n",
       "    </tr>\n",
       "    <tr>\n",
       "      <th>149</th>\n",
       "      <td>5.9</td>\n",
       "      <td>3.0</td>\n",
       "      <td>5.1</td>\n",
       "      <td>1.8</td>\n",
       "      <td>Iris-virginica</td>\n",
       "    </tr>\n",
       "  </tbody>\n",
       "</table>\n",
       "</div>"
      ],
      "text/plain": [
       "       0    1    2    3               4\n",
       "145  6.7  3.0  5.2  2.3  Iris-virginica\n",
       "146  6.3  2.5  5.0  1.9  Iris-virginica\n",
       "147  6.5  3.0  5.2  2.0  Iris-virginica\n",
       "148  6.2  3.4  5.4  2.3  Iris-virginica\n",
       "149  5.9  3.0  5.1  1.8  Iris-virginica"
      ]
     },
     "execution_count": 13,
     "metadata": {},
     "output_type": "execute_result"
    }
   ],
   "source": [
    "# Loading data\n",
    "# Data source\n",
    "s = 'https://archive.ics.uci.edu/ml/machine-learning-databases/iris/iris.data'\n",
    "\n",
    "# Read data directly from the URL\n",
    "df = pd.read_csv(s, header=None, encoding='utf-8')\n",
    "# I have also downloaded the data. So the following code also works.\n",
    "# df = pd.read_csv('./data/iris.data')\n",
    "\n",
    "# Print the last 5 rows\n",
    "df.tail()\n"
   ]
  },
  {
   "cell_type": "code",
   "execution_count": 14,
   "id": "5013e1e5",
   "metadata": {
    "scrolled": true
   },
   "outputs": [
    {
     "data": {
      "text/plain": [
       "<matplotlib.legend.Legend at 0x1ea2fedeb20>"
      ]
     },
     "execution_count": 14,
     "metadata": {},
     "output_type": "execute_result"
    },
    {
     "data": {
      "image/png": "[encoded data removed]",
      "text/plain": [
       "<Figure size 640x480 with 1 Axes>"
      ]
     },
     "metadata": {},
     "output_type": "display_data"
    }
   ],
   "source": [
    "# Create labels\n",
    "# 'Iris-setosa' --> 0   'Iris-virginica' --> 1\n",
    "y = df.iloc[0:100, 4].values   \n",
    "y = np.where(y == 'Iris-setosa', 0, 1)\n",
    "# Get two features\n",
    "X = df.iloc[0:100, [0,2]].values\n",
    "# Plot data\n",
    "fig = plt.figure()\n",
    "ax = fig.add_subplot(1,1,1)\n",
    "ax.scatter(X[:50,0], X[:50,1], color='red', marker='o', label='Setosa')\n",
    "ax.scatter(X[50:100,0], X[50:100,1], color='blue', marker='s', label='Versicolor')\n",
    "ax.set_xlabel('Sepal length (cm)')\n",
    "ax.set_ylabel('Petal length (cm)')\n",
    "ax.legend(loc='upper left')"
   ]
  },
  {
   "cell_type": "code",
   "execution_count": 15,
   "id": "7bb10474",
   "metadata": {
    "scrolled": true
   },
   "outputs": [
    {
     "data": {
      "text/plain": [
       "Text(0, 0.5, 'Number of misclassification/Number of updates')"
      ]
     },
     "execution_count": 15,
     "metadata": {},
     "output_type": "execute_result"
    },
    {
     "data": {
      "image/png": "[encoded data removed]",
      "text/plain": [
       "<Figure size 640x480 with 1 Axes>"
      ]
     },
     "metadata": {},
     "output_type": "display_data"
    }
   ],
   "source": [
    "# Train a perceptron\n",
    "ppn = Perceptron(eta=0.1, n_iter=10, random_state=1)\n",
    "ppn.fit(X,y)\n",
    "# Plot misclassification\n",
    "fig = plt.figure()\n",
    "ax = fig.add_subplot(1,1,1)\n",
    "ax.plot(range(1, len(ppn.errors_)+1), ppn.errors_, marker='o')\n",
    "ax.set_xlabel('Epochs/Number of iterations')\n",
    "ax.set_ylabel('Number of misclassification/Number of updates')\n",
    "# Note that the figure may not be the same as the one in the book.\n",
    "# If we change the value of 'random_state', then we may get the figure in the book."
   ]
  },
  {
   "cell_type": "code",
   "execution_count": 37,
   "id": "acbab38e",
   "metadata": {},
   "outputs": [
    {
     "data": {
      "image/png": "[encoded data removed]",
      "text/plain": [
       "<Figure size 640x480 with 1 Axes>"
      ]
     },
     "metadata": {},
     "output_type": "display_data"
    }
   ],
   "source": [
    "# Visualizing the decision boundary\n",
    "def plot_decision_regions(X, y, classifier, resolution=0.02):\n",
    "    # Create lists of markers and colors\n",
    "    markers = ('o', 's', '^', 'v', '<')\n",
    "    colors = ('red', 'blue', 'lightgreen', 'gray', 'cyan')\n",
    "    \n",
    "    # np.unique: find the unique elements of an array\n",
    "    # The output y only has two possible values, 0 and 1. Therefore np.unique(y) is 2.\n",
    "    # Then colors[:len(np.unique(y))] is colors[:2], i.e., colors = ('red', 'blue')\n",
    "    # This is suitable for discrete colors.\n",
    "    cmap = ListedColormap(colors[:len(np.unique(y))])\n",
    "    \n",
    "    # Set the range \n",
    "    # The range of the figure is larger than the range of the features.\n",
    "    # Prevent data points from lying on the edges of the figure.\n",
    "    x1_min, x1_max = X[:,0].min() - 1, X[:,0].max() + 1 \n",
    "    x2_min, x2_max = X[:,1].min() - 1, X[:,1].max() + 1 \n",
    "    # Generate meshgrid\n",
    "    xx1, xx2 = np.meshgrid(np.arange(x1_min, x1_max, resolution), np.arange(x2_min, x2_max, resolution))\n",
    "    # np.ravel(): flatten an array. It returns a 1D-array\n",
    "    # The input of the function 'predict' is X. Each column of X corresponds to a feature.\n",
    "    # Therefore, after raveling, we need to transpose the array.\n",
    "    # lab: labels for all grid points\n",
    "    lab = classifier.predict(np.array([xx1.ravel(), xx2.ravel()]).T)\n",
    "    # The output of 'predict' is a 1D-array. It is reshaped to have the same shape as xx1\n",
    "    lab = lab.reshape(xx1.shape)\n",
    "    \n",
    "    fig = plt.figure()\n",
    "    ax = fig.add_subplot(1,1,1)\n",
    "    # alpha: control the transparency\n",
    "    ax.contourf(xx1, xx2, lab, alpha=0.2, cmap=cmap)\n",
    "    \n",
    "    # Plot training examples\n",
    "    # enumerate: \n",
    "    for idx, cl in enumerate(np.unique(y)):\n",
    "        ax.scatter(x=X[y==cl,0], y=X[y==cl,1], alpha=1, c=colors[idx], marker=markers[idx], label='Class {}'.format(cl), edgecolor=\"black\")\n",
    "    ax.legend()\n",
    "    \n",
    "plot_decision_regions(X, y, ppn)"
   ]
  },
  {
   "cell_type": "code",
   "execution_count": 18,
   "id": "9296c597",
   "metadata": {},
   "outputs": [
    {
     "data": {
      "text/plain": [
       "(100,)"
      ]
     },
     "execution_count": 18,
     "metadata": {},
     "output_type": "execute_result"
    }
   ],
   "source": [
    "ppn.predict(X).shape"
   ]
  },
  {
   "cell_type": "code",
   "execution_count": 20,
   "id": "39fa4c9a",
   "metadata": {},
   "outputs": [
    {
     "data": {
      "text/plain": [
       "(100,)"
      ]
     },
     "execution_count": 20,
     "metadata": {},
     "output_type": "execute_result"
    }
   ],
   "source": [
    "ppn.net_input(X).shape"
   ]
  },
  {
   "cell_type": "code",
   "execution_count": 21,
   "id": "44bf03c5",
   "metadata": {},
   "outputs": [
    {
     "data": {
      "text/plain": [
       "()"
      ]
     },
     "execution_count": 21,
     "metadata": {},
     "output_type": "execute_result"
    }
   ],
   "source": [
    "ppn.b_.shape"
   ]
  },
  {
   "cell_type": "code",
   "execution_count": 28,
   "id": "3f91efbc",
   "metadata": {
    "scrolled": true
   },
   "outputs": [
    {
     "data": {
      "image/png": "[encoded data removed]",
      "text/html": [
       "<div style=\"vertical-align: middle;\"><strong>from_list</strong> </div><div class=\"cmap\"><img alt=\"from_list colormap\" title=\"from_list\" style=\"border: 1px solid #555;\" src=\"data:image/png;base64,iVBORw0KGgoAAAANSUhEUgAAAgAAAABACAYAAABsv8+/AAAAGHRFWHRUaXRsZQBmcm9tX2xpc3QgY29sb3JtYXBDL89FAAAAHnRFWHREZXNjcmlwdGlvbgBmcm9tX2xpc3QgY29sb3JtYXABtCnOAAAAMHRFWHRBdXRob3IATWF0cGxvdGxpYiB2My42LjIsIGh0dHBzOi8vbWF0cGxvdGxpYi5vcmdxzlVfAAAAMnRFWHRTb2Z0d2FyZQBNYXRwbG90bGliIHYzLjYuMiwgaHR0cHM6Ly9tYXRwbG90bGliLm9yZ19oyngAAAEqSURBVHic7daxDQAgEAOxh/13hi2gOHuCNJFunZkzQNJyf8javwcAAO8JAAAIEgAAECQAACBIAABAkAAAgCABAABBAgAAggQAAAQJAAAIEgAAECQAACBIAABAkAAAgCABAABBAgAAggQAAAQJAAAIEgAAECQAACBIAABAkAAAgCABAABBAgAAggQAAAQJAAAIEgAAECQAACBIAABAkAAAgCABAABBAgAAggQAAAQJAAAIEgAAECQAACBIAABAkAAAgCABAABBAgAAggQAAAQJAAAIEgAAECQAACBIAABAkAAAgCABAABBAgAAggQAAAQJAAAIEgAAECQAACBIAABAkAAAgCABAABBAgAAggQAAAQJAAAIEgAAECQAACBIAABAkAAAgCABAABBFyj8A34xtI2lAAAAAElFTkSuQmCC\"></div><div style=\"vertical-align: middle; max-width: 514px; display: flex; justify-content: space-between;\"><div style=\"float: left;\"><div title=\"#ff0000ff\" style=\"display: inline-block; width: 1em; height: 1em; margin: 0; vertical-align: middle; border: 1px solid #555; background-color: #ff0000ff;\"></div> under</div><div style=\"margin: 0 auto; display: inline-block;\">bad <div title=\"#00000000\" style=\"display: inline-block; width: 1em; height: 1em; margin: 0; vertical-align: middle; border: 1px solid #555; background-color: #00000000;\"></div></div><div style=\"float: right;\">over <div title=\"#0000ffff\" style=\"display: inline-block; width: 1em; height: 1em; margin: 0; vertical-align: middle; border: 1px solid #555; background-color: #0000ffff;\"></div></div>"
      ],
      "text/plain": [
       "<matplotlib.colors.ListedColormap at 0x1ea2fe08d30>"
      ]
     },
     "execution_count": 28,
     "metadata": {},
     "output_type": "execute_result"
    }
   ],
   "source": [
    "colors = ('red', 'blue', 'lightgreen', 'gray', 'cyan')\n",
    "cmap = ListedColormap(colors[:len(np.unique(y))])\n",
    "cmap"
   ]
  },
  {
   "cell_type": "code",
   "execution_count": 34,
   "id": "6188f6b1",
   "metadata": {},
   "outputs": [
    {
     "data": {
      "text/plain": [
       "<enumerate at 0x1ea30722b80>"
      ]
     },
     "execution_count": 34,
     "metadata": {},
     "output_type": "execute_result"
    }
   ],
   "source": [
    "enumerate(np.unique(y))"
   ]
  }
 ],
 "metadata": {
  "kernelspec": {
   "display_name": "Python 3 (ipykernel)",
   "language": "python",
   "name": "python3"
  },
  "language_info": {
   "codemirror_mode": {
    "name": "ipython",
    "version": 3
   },
   "file_extension": ".py",
   "mimetype": "text/x-python",
   "name": "python",
   "nbconvert_exporter": "python",
   "pygments_lexer": "ipython3",
   "version": "3.8.15"
  }
 },
 "nbformat": 4,
 "nbformat_minor": 5
}
