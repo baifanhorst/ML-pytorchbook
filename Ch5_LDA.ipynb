{
 "cells": [
  {
   "cell_type": "code",
   "execution_count": 83,
   "id": "d084b376",
   "metadata": {},
   "outputs": [],
   "source": [
    "import numpy as np\n",
    "import matplotlib.pyplot as plt\n",
    "import pandas as pd\n",
    "\n",
    "# For data splitting\n",
    "from sklearn.model_selection import train_test_split\n",
    "# For standardization\n",
    "from sklearn.preprocessing import StandardScaler\n",
    "\n",
    "# For visualization\n",
    "from matplotlib.colors import ListedColormap\n",
    "\n",
    "# For classification\n",
    "from sklearn.linear_model import LogisticRegression"
   ]
  },
  {
   "cell_type": "code",
   "execution_count": 84,
   "id": "58d800cf",
   "metadata": {},
   "outputs": [],
   "source": [
    "# Read the online wine data set with no headers\n",
    "df_wine = pd.read_csv('https://archive.ics.uci.edu/ml/machine-learning-databases/wine/wine.data', header=None)\n",
    "\n",
    "# Assign column labels\n",
    "# The feature names can be found online.\n",
    "df_wine.columns = ['Class label', \n",
    "              'Alcohol', \n",
    "              'Malic acid', \n",
    "              'Ash', \n",
    "              'Alcalinity of ash', \n",
    "              'Magnesium', \n",
    "              'Total phenols', \n",
    "              'Flavanoids', \n",
    "              'Nonflavanoid phenols', \n",
    "              'Proanthocyanins', \n",
    "              'Color intensity', \n",
    "              'Hue', \n",
    "              'OD280/OD315 of diluted wines', \n",
    "              'Proline']\n",
    "\n",
    "# Split the data set into a training set and a test set\n",
    "y = df_wine.iloc[:, 0].values\n",
    "X = df_wine.iloc[:, 1:].values\n",
    "X_train, X_test, y_train, y_test = train_test_split(X, y, test_size=0.3, random_state=0, stratify=y)\n",
    "# test_size=0.3: the testing set contains 30% data\n",
    "# stratify=y: both the train and testing sets have the same class proportions as the original dataset.\n",
    "\n",
    "# Standardization\n",
    "# Create a scaler\n",
    "stdsc = StandardScaler()\n",
    "# Fit and transform the training set\n",
    "X_train_std = stdsc.fit_transform(X_train)\n",
    "# Transform the testing set with the same scaler\n",
    "X_test_std = stdsc.transform(X_test)"
   ]
  },
  {
   "cell_type": "code",
   "execution_count": 85,
   "id": "0fdd8bef",
   "metadata": {},
   "outputs": [
    {
     "name": "stdout",
     "output_type": "stream",
     "text": [
      "MV 1: [ 0.9065826  -0.34973457  0.32010329 -0.71891449  0.50558678  0.88069702\n",
      "  0.95894709 -0.55161049  0.54159322  0.23383109  0.58971299  0.65631399\n",
      "  1.20749382]\n",
      "\n",
      "MV 2: [-0.87487963 -0.28480003 -0.37347228  0.31571225 -0.38480347 -0.04332505\n",
      "  0.06345321 -0.09460613  0.07034749 -0.82860474  0.31436962  0.36084258\n",
      " -0.72528643]\n",
      "\n",
      "MV 3: [ 0.199215    0.8660339   0.168163    0.41484489 -0.04511771 -1.02855532\n",
      " -1.28756034  0.82867687 -0.77947565  0.96494432 -1.20899133 -1.36215159\n",
      " -0.40130076]\n",
      "\n"
     ]
    }
   ],
   "source": [
    "# Calculate the mean feature vector for each class\n",
    "mean_vecs = []\n",
    "for label in range(1,4): # Three classes\n",
    "    mean_vecs.append(np.mean(X_train_std[y_train==label], axis=0))\n",
    "    print(f'MV {label}: {mean_vecs[label-1]}\\n')\n",
    "# Without axis=0, np.mean would calculate the mean of all entries, rather than columnwise means."
   ]
  },
  {
   "cell_type": "code",
   "execution_count": 86,
   "id": "2ee75f01",
   "metadata": {},
   "outputs": [],
   "source": [
    "# Calculate the within-class scatter matrix\n",
    "# Number of features\n",
    "d = X_train_std.shape[1]\n",
    "# Number of classes\n",
    "c = np.unique(y).shape[0]\n",
    "\n",
    "# Initialize the scatter matrix\n",
    "S_W = np.zeros((d,d))\n",
    "\n",
    "# Calculate the scatter matrix\n",
    "# Iterate for each class\n",
    "for label, mv in zip(range(1,4), mean_vecs):\n",
    "    # Initialize the scatter matrix for the current class\n",
    "    class_scatter = np.zeros((d,d))\n",
    "    # Change mv into a column vector\n",
    "    mv_col = mv.reshape(d,1)\n",
    "    for row in X_train_std[y_train==label]:\n",
    "        # Change each row into a column vector\n",
    "        example = row.reshape(d,1)\n",
    "        difference = example-mv_col\n",
    "        class_scatter += np.matmul(difference, difference.T)\n",
    "    S_W += class_scatter\n",
    "    \n",
    "#print(f\"Within-class scatter matrix:\\n\", S_W)\n",
    "#print(\"Shape: \", S_W.shape)\n",
    "#print(S_W)"
   ]
  },
  {
   "cell_type": "code",
   "execution_count": 87,
   "id": "5e2e803d",
   "metadata": {
    "scrolled": true
   },
   "outputs": [
    {
     "name": "stdout",
     "output_type": "stream",
     "text": [
      "[ 0 41 50 33]\n",
      "Number of observations in each class: [41 50 33]\n"
     ]
    }
   ],
   "source": [
    "# Number of observations in each class\n",
    "# This returns the number of occurrences of nonnegative integers.\n",
    "# It always counts from 0, even if 0 does not appear in the array\n",
    "print(np.bincount(y_train))\n",
    "# The class labels are 1,2,3. Thus we do not need the first entry\n",
    "print(\"Number of observations in each class:\",  np.bincount(y_train)[1:])\n",
    "\n",
    "num_examples_all = np.bincount(y_train)[1:]"
   ]
  },
  {
   "cell_type": "code",
   "execution_count": 95,
   "id": "77f9854c",
   "metadata": {},
   "outputs": [],
   "source": [
    "# Use numpy covariance to find S_W\n",
    "# Initialize the scatter matrix\n",
    "S_W = np.zeros((d,d))\n",
    "# Number of examples in each class\n",
    "num_examples_all = np.bincount(y)[1:]\n",
    "for label, num_examples in zip(range(1,4), num_examples_all):\n",
    "    # The input of np.cov requires that each column represents a single observation\n",
    "    # Therefore, we need to transpose the data matrix\n",
    "    # class_scatter = np.cov(X_train_std[y_train==label].T) * (num_examples-1)\n",
    "    # The default way to calculate covariance by np.cov is to devide num_examples-1, to get an unbiased result\n",
    "    class_scatter = np.cov(X_train_std[y_train==label].T) * (num_examples-1)\n",
    "    S_W += class_scatter\n",
    "\n",
    "#print(\"Shape: \", S_W.shape)\n",
    "#print(S_W)\n",
    "\n",
    "# ???????????? Result is not the same\n"
   ]
  },
  {
   "cell_type": "code",
   "execution_count": 96,
   "id": "b112d141",
   "metadata": {},
   "outputs": [],
   "source": [
    "# between-class scatter matrix\n",
    "mean_overall = np.mean(X_train_std, axis=0)\n",
    "\n",
    "# Initialization of the scatter matrix\n",
    "S_B = np.zeros((d,d))\n",
    "\n",
    "for mean_vec, num_examples in zip(mean_vecs, num_examples_all):\n",
    "    difference = (mean_vec - mean_overall).reshape(d, 1)\n",
    "    S_B += num_examples * np.matmul(difference, difference.T)"
   ]
  },
  {
   "cell_type": "code",
   "execution_count": 97,
   "id": "6b0dbfa8",
   "metadata": {},
   "outputs": [],
   "source": [
    "# Solve the eigenvalue problem\n",
    "S_W_inv_S_B = np.matmul(np.linalg.inv(S_W), S_B)\n",
    "eigen_vals, eigen_vecs = np.linalg.eig(S_W_inv_S_B)\n",
    "# eigen_vals: 1D array, all evals\n",
    "# eigen_vecs: each column is an eigenvector.\n",
    "eigen_vals = eigen_vals.real"
   ]
  },
  {
   "cell_type": "code",
   "execution_count": 98,
   "id": "a1a18bcb",
   "metadata": {},
   "outputs": [],
   "source": [
    "# Sort the eigen values for transformation\n",
    "# Make a list of (eval, evect) tuples\n",
    "eigen_pairs = [(eigen_vals[i], eigen_vecs[:,i]) for i in range(len(eigen_vals))]\n",
    "# Sort the eigen pairs from high to low\n",
    "eigen_pairs.sort(key = lambda k: k[0], reverse=True)\n",
    "# key: this input is a function. We sort the list according to the output of this function, not the original entries."
   ]
  },
  {
   "cell_type": "code",
   "execution_count": 99,
   "id": "28e91d21",
   "metadata": {
    "scrolled": true
   },
   "outputs": [
    {
     "name": "stdout",
     "output_type": "stream",
     "text": [
      "8.28912191100274\n",
      "4.181312494763254\n",
      "6.253598975691167e-16\n",
      "3.476715962081882e-16\n",
      "3.476715962081882e-16\n",
      "1.9994161434894455e-16\n",
      "1.9994161434894455e-16\n",
      "0.0\n",
      "-3.5215651776847543e-17\n",
      "-3.5215651776847543e-17\n",
      "-3.6469671198012595e-17\n",
      "-1.6753150132140388e-16\n",
      "-9.131952695079934e-16\n"
     ]
    }
   ],
   "source": [
    "for eigen_pair in eigen_pairs:\n",
    "    print(eigen_pair[0])"
   ]
  },
  {
   "cell_type": "code",
   "execution_count": 100,
   "id": "b2c411d1",
   "metadata": {},
   "outputs": [],
   "source": [
    "# Construct the transformation matrix W\n",
    "# It has two columns corresponding to the first eigenvectors in the sorted list\n",
    "W = np.hstack((-eigen_pairs[0][1][:,np.newaxis].real, -eigen_pairs[1][1][:,np.newaxis].real))"
   ]
  },
  {
   "cell_type": "code",
   "execution_count": 101,
   "id": "9969babd",
   "metadata": {},
   "outputs": [],
   "source": [
    "# Transform the data\n",
    "X_train_lda = np.matmul(X_train_std, W)"
   ]
  },
  {
   "cell_type": "code",
   "execution_count": 102,
   "id": "8bb54627",
   "metadata": {
    "scrolled": false
   },
   "outputs": [
    {
     "data": {
      "text/plain": [
       "<matplotlib.legend.Legend at 0x1f381932940>"
      ]
     },
     "execution_count": 102,
     "metadata": {},
     "output_type": "execute_result"
    },
    {
     "data": {
      "image/png": "[encoded data removed]",
      "text/plain": [
       "<Figure size 640x480 with 1 Axes>"
      ]
     },
     "metadata": {},
     "output_type": "display_data"
    }
   ],
   "source": [
    "# Visualize the transformed data\n",
    "fig = plt.figure()\n",
    "ax = fig.add_subplot(111)\n",
    "\n",
    "colors = ['r', 'b', 'g']\n",
    "markers = ['o', 's', '^']\n",
    "\n",
    "for l, c, m in zip(np.unique(y_train), colors, markers):\n",
    "    ax.scatter(X_train_lda[y_train==l, 0], X_train_lda[y_train==l, 1], color=c, marker=m, label=f\"class {l}\")\n",
    "    \n",
    "ax.set_xlabel(\"LD 1\")\n",
    "ax.set_ylabel(\"LD 2\")\n",
    "ax.legend()"
   ]
  },
  {
   "cell_type": "markdown",
   "id": "f1db8240",
   "metadata": {},
   "source": [
    "Below, we calculate the covariance in two ways. One is to use np.cov, the other is manual implementation. The purpose is to show that the default way to calculate covariance by np.cov is to divide the sum by (number of examples - 1)"
   ]
  },
  {
   "cell_type": "code",
   "execution_count": 62,
   "id": "d81e036e",
   "metadata": {},
   "outputs": [],
   "source": [
    "A = X_train_std[y_train==1]"
   ]
  },
  {
   "cell_type": "code",
   "execution_count": 63,
   "id": "5a6d1388",
   "metadata": {
    "scrolled": true
   },
   "outputs": [
    {
     "data": {
      "text/plain": [
       "array([[ 0.2886114 , -0.04640649, -0.12520034, -0.1923702 ,  0.01008807,\n",
       "         0.10303129,  0.0818283 ,  0.00433466,  0.09342332,  0.08616157,\n",
       "         0.07447061,  0.01391636,  0.10722041],\n",
       "       [-0.04640649,  0.24342676, -0.05554105,  0.03861215, -0.05356088,\n",
       "        -0.03321305, -0.03945115,  0.00646782, -0.03080227, -0.08844128,\n",
       "        -0.10393479,  0.02713746, -0.11921615],\n",
       "       [-0.12520034, -0.05554105,  0.75108486,  0.42700013,  0.29474384,\n",
       "         0.01028486, -0.01092715,  0.26116136, -0.13366602, -0.0769627 ,\n",
       "         0.09946116, -0.03533046, -0.03539828],\n",
       "       [-0.1923702 ,  0.03861215,  0.42700013,  0.64705745,  0.23876323,\n",
       "        -0.148541  , -0.12696805,  0.13378237, -0.17326713, -0.1330574 ,\n",
       "         0.01277134, -0.03973881, -0.12431712],\n",
       "       [ 0.01008807, -0.05356088,  0.29474384,  0.23876323,  0.5368417 ,\n",
       "         0.11151347,  0.01077588,  0.17437099, -0.09408034,  0.06043918,\n",
       "         0.01816557,  0.03967391, -0.07562279],\n",
       "       [ 0.10303129, -0.03321305,  0.01028486, -0.148541  ,  0.11151347,\n",
       "         0.2976697 ,  0.18063816, -0.00560905,  0.12794214,  0.17421468,\n",
       "        -0.03888482,  0.02607132,  0.08169275],\n",
       "       [ 0.0818283 , -0.03945115, -0.01092715, -0.12696805,  0.01077588,\n",
       "         0.18063816,  0.16932522, -0.02219669,  0.1555122 ,  0.1638018 ,\n",
       "         0.01820439, -0.00799416,  0.11056841],\n",
       "       [ 0.00433466,  0.00646782,  0.26116136,  0.13378237,  0.17437099,\n",
       "        -0.00560905, -0.02219669,  0.37493968, -0.08793245, -0.06962141,\n",
       "         0.10529143, -0.06868537, -0.08591258],\n",
       "       [ 0.09342332, -0.03080227, -0.13366602, -0.17326713, -0.09408034,\n",
       "         0.12794214,  0.1555122 , -0.08793245,  0.54019908,  0.15103216,\n",
       "         0.06211626, -0.00964028,  0.04821105],\n",
       "       [ 0.08616157, -0.08844128, -0.0769627 , -0.1330574 ,  0.06043918,\n",
       "         0.17421468,  0.1638018 , -0.06962141,  0.15103216,  0.29375771,\n",
       "         0.04022713, -0.05656071,  0.21239058],\n",
       "       [ 0.07447061, -0.10393479,  0.09946116,  0.01277134,  0.01816557,\n",
       "        -0.03888482,  0.01820439,  0.10529143,  0.06211626,  0.04022713,\n",
       "         0.27439941, -0.05017461,  0.13888438],\n",
       "       [ 0.01391636,  0.02713746, -0.03533046, -0.03973881,  0.03967391,\n",
       "         0.02607132, -0.00799416, -0.06868537, -0.00964028, -0.05656071,\n",
       "        -0.05017461,  0.23435083, -0.11007681],\n",
       "       [ 0.10722041, -0.11921615, -0.03539828, -0.12431712, -0.07562279,\n",
       "         0.08169275,  0.11056841, -0.08591258,  0.04821105,  0.21239058,\n",
       "         0.13888438, -0.11007681,  0.46703719]])"
      ]
     },
     "execution_count": 63,
     "metadata": {},
     "output_type": "execute_result"
    }
   ],
   "source": [
    "np.cov(A.T)"
   ]
  },
  {
   "cell_type": "code",
   "execution_count": 64,
   "id": "61897929",
   "metadata": {
    "scrolled": true
   },
   "outputs": [
    {
     "data": {
      "text/plain": [
       "array([ 0.9065826 , -0.34973457,  0.32010329, -0.71891449,  0.50558678,\n",
       "        0.88069702,  0.95894709, -0.55161049,  0.54159322,  0.23383109,\n",
       "        0.58971299,  0.65631399,  1.20749382])"
      ]
     },
     "execution_count": 64,
     "metadata": {},
     "output_type": "execute_result"
    }
   ],
   "source": [
    "mean_A = np.mean(A, axis=0)\n",
    "mean_A"
   ]
  },
  {
   "cell_type": "code",
   "execution_count": 75,
   "id": "63402a45",
   "metadata": {},
   "outputs": [],
   "source": [
    "cov_A = 0 \n",
    "for x in A:\n",
    "    deviation = (x - mean_A).reshape(d,1)\n",
    "    cov_A += np.matmul(deviation, deviation.T)\n",
    "cov_A /= (A.shape[0]-1)"
   ]
  },
  {
   "cell_type": "code",
   "execution_count": 76,
   "id": "02afc3b2",
   "metadata": {},
   "outputs": [
    {
     "data": {
      "text/plain": [
       "array([[ 0.2886114 , -0.04640649, -0.12520034, -0.1923702 ,  0.01008807,\n",
       "         0.10303129,  0.0818283 ,  0.00433466,  0.09342332,  0.08616157,\n",
       "         0.07447061,  0.01391636,  0.10722041],\n",
       "       [-0.04640649,  0.24342676, -0.05554105,  0.03861215, -0.05356088,\n",
       "        -0.03321305, -0.03945115,  0.00646782, -0.03080227, -0.08844128,\n",
       "        -0.10393479,  0.02713746, -0.11921615],\n",
       "       [-0.12520034, -0.05554105,  0.75108486,  0.42700013,  0.29474384,\n",
       "         0.01028486, -0.01092715,  0.26116136, -0.13366602, -0.0769627 ,\n",
       "         0.09946116, -0.03533046, -0.03539828],\n",
       "       [-0.1923702 ,  0.03861215,  0.42700013,  0.64705745,  0.23876323,\n",
       "        -0.148541  , -0.12696805,  0.13378237, -0.17326713, -0.1330574 ,\n",
       "         0.01277134, -0.03973881, -0.12431712],\n",
       "       [ 0.01008807, -0.05356088,  0.29474384,  0.23876323,  0.5368417 ,\n",
       "         0.11151347,  0.01077588,  0.17437099, -0.09408034,  0.06043918,\n",
       "         0.01816557,  0.03967391, -0.07562279],\n",
       "       [ 0.10303129, -0.03321305,  0.01028486, -0.148541  ,  0.11151347,\n",
       "         0.2976697 ,  0.18063816, -0.00560905,  0.12794214,  0.17421468,\n",
       "        -0.03888482,  0.02607132,  0.08169275],\n",
       "       [ 0.0818283 , -0.03945115, -0.01092715, -0.12696805,  0.01077588,\n",
       "         0.18063816,  0.16932522, -0.02219669,  0.1555122 ,  0.1638018 ,\n",
       "         0.01820439, -0.00799416,  0.11056841],\n",
       "       [ 0.00433466,  0.00646782,  0.26116136,  0.13378237,  0.17437099,\n",
       "        -0.00560905, -0.02219669,  0.37493968, -0.08793245, -0.06962141,\n",
       "         0.10529143, -0.06868537, -0.08591258],\n",
       "       [ 0.09342332, -0.03080227, -0.13366602, -0.17326713, -0.09408034,\n",
       "         0.12794214,  0.1555122 , -0.08793245,  0.54019908,  0.15103216,\n",
       "         0.06211626, -0.00964028,  0.04821105],\n",
       "       [ 0.08616157, -0.08844128, -0.0769627 , -0.1330574 ,  0.06043918,\n",
       "         0.17421468,  0.1638018 , -0.06962141,  0.15103216,  0.29375771,\n",
       "         0.04022713, -0.05656071,  0.21239058],\n",
       "       [ 0.07447061, -0.10393479,  0.09946116,  0.01277134,  0.01816557,\n",
       "        -0.03888482,  0.01820439,  0.10529143,  0.06211626,  0.04022713,\n",
       "         0.27439941, -0.05017461,  0.13888438],\n",
       "       [ 0.01391636,  0.02713746, -0.03533046, -0.03973881,  0.03967391,\n",
       "         0.02607132, -0.00799416, -0.06868537, -0.00964028, -0.05656071,\n",
       "        -0.05017461,  0.23435083, -0.11007681],\n",
       "       [ 0.10722041, -0.11921615, -0.03539828, -0.12431712, -0.07562279,\n",
       "         0.08169275,  0.11056841, -0.08591258,  0.04821105,  0.21239058,\n",
       "         0.13888438, -0.11007681,  0.46703719]])"
      ]
     },
     "execution_count": 76,
     "metadata": {},
     "output_type": "execute_result"
    }
   ],
   "source": [
    "cov_A"
   ]
  }
 ],
 "metadata": {
  "kernelspec": {
   "display_name": "Python 3 (ipykernel)",
   "language": "python",
   "name": "python3"
  },
  "language_info": {
   "codemirror_mode": {
    "name": "ipython",
    "version": 3
   },
   "file_extension": ".py",
   "mimetype": "text/x-python",
   "name": "python",
   "nbconvert_exporter": "python",
   "pygments_lexer": "ipython3",
   "version": "3.9.13"
  }
 },
 "nbformat": 4,
 "nbformat_minor": 5
}
