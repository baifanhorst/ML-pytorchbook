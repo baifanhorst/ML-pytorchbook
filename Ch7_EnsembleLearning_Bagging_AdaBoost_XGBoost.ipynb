{
 "cells": [
  {
   "cell_type": "code",
   "execution_count": 35,
   "id": "9c73d00f",
   "metadata": {},
   "outputs": [],
   "source": [
    "import pandas as pd\n",
    "import numpy as np\n",
    "from sklearn.preprocessing import LabelEncoder\n",
    "from sklearn.model_selection import train_test_split\n",
    "from sklearn.ensemble import BaggingClassifier\n",
    "from sklearn.tree import DecisionTreeClassifier\n",
    "from sklearn.metrics import accuracy_score\n",
    "import matplotlib.pyplot as plt\n",
    "\n",
    "from sklearn.ensemble import AdaBoostClassifier\n",
    "\n",
    "import xgboost as xgb"
   ]
  },
  {
   "cell_type": "code",
   "execution_count": 19,
   "id": "c49324a9",
   "metadata": {},
   "outputs": [],
   "source": [
    "# Read the online wine data set with no headers\n",
    "df_wine = pd.read_csv('https://archive.ics.uci.edu/ml/machine-learning-databases/wine/wine.data', header=None)\n",
    "\n",
    "# Assign column labels\n",
    "# The feature names can be found online.\n",
    "df_wine.columns = ['Class label', \n",
    "              'Alcohol', \n",
    "              'Malic acid', \n",
    "              'Ash', \n",
    "              'Alcalinity of ash', \n",
    "              'Magnesium', \n",
    "              'Total phenols', \n",
    "              'Flavanoids', \n",
    "              'Nonflavanoid phenols', \n",
    "              'Proanthocyanins', \n",
    "              'Color intensity', \n",
    "              'Hue', \n",
    "              'OD280/OD315 of diluted wines', \n",
    "              'Proline']"
   ]
  },
  {
   "cell_type": "code",
   "execution_count": 20,
   "id": "3b0a2c52",
   "metadata": {
    "scrolled": true
   },
   "outputs": [
    {
     "data": {
      "text/plain": [
       "array([1, 2, 3], dtype=int64)"
      ]
     },
     "execution_count": 20,
     "metadata": {},
     "output_type": "execute_result"
    }
   ],
   "source": [
    "# There are three class labels\n",
    "df_wine['Class label'].unique()"
   ]
  },
  {
   "cell_type": "code",
   "execution_count": 21,
   "id": "2276f248",
   "metadata": {},
   "outputs": [],
   "source": [
    "# We only consider label 2 and 3, so we drop the examples from class 1\n",
    "df_wine = df_wine[df_wine['Class label']!=1]"
   ]
  },
  {
   "cell_type": "code",
   "execution_count": 22,
   "id": "1833d0bc",
   "metadata": {
    "scrolled": true
   },
   "outputs": [],
   "source": [
    "# Extract features and class labels\n",
    "# We only use two features\n",
    "X = df_wine[['Alcohol', 'OD280/OD315 of diluted wines']].values\n",
    "y = df_wine['Class label'].values"
   ]
  },
  {
   "cell_type": "code",
   "execution_count": 23,
   "id": "d5d02d97",
   "metadata": {},
   "outputs": [],
   "source": [
    "# Relabeling data\n",
    "le = LabelEncoder()\n",
    "y = le.fit_transform(y)"
   ]
  },
  {
   "cell_type": "code",
   "execution_count": 24,
   "id": "49a31cd3",
   "metadata": {},
   "outputs": [],
   "source": [
    "# Split data\n",
    "X_train, X_test, y_train, y_test = train_test_split(X, y, test_size=0.2, random_state=1, stratify=y)"
   ]
  },
  {
   "cell_type": "code",
   "execution_count": 25,
   "id": "6c291c39",
   "metadata": {},
   "outputs": [],
   "source": [
    "# Create a bagging estimator\n",
    "tree = DecisionTreeClassifier(criterion='entropy', random_state=1, max_depth=None)\n",
    "# max_depth=None: no depth restriction\n",
    "\n",
    "\n",
    "\n",
    "bag = BaggingClassifier(base_estimator=tree, \n",
    "                        n_estimators=500, \n",
    "                        max_samples=1.0, \n",
    "                        max_features=1.0, \n",
    "                        bootstrap=True, \n",
    "                        bootstrap_features=False, \n",
    "                        random_state=1, n_jobs=1)\n",
    "# n_estimators=500: 500 base estimators (decision trees) in the ensemble.\n",
    "# max_samples=1.0: max_samples * X.shape[0] samples\n",
    "# max_features=1.0: max(1, int(max_features * n_features_in_)) features\n",
    "# bootstrap=True: draw samples with replacement\n",
    "# bootstrap_features=False: do not sample features with replacement"
   ]
  },
  {
   "cell_type": "code",
   "execution_count": 26,
   "id": "4ce45d43",
   "metadata": {},
   "outputs": [
    {
     "data": {
      "text/plain": [
       "DecisionTreeClassifier(criterion='entropy', random_state=1)"
      ]
     },
     "execution_count": 26,
     "metadata": {},
     "output_type": "execute_result"
    }
   ],
   "source": [
    "# Fit a single tree\n",
    "tree.fit(X_train, y_train)"
   ]
  },
  {
   "cell_type": "code",
   "execution_count": 27,
   "id": "ac742b7a",
   "metadata": {
    "scrolled": false
   },
   "outputs": [
    {
     "name": "stdout",
     "output_type": "stream",
     "text": [
      "Accuracy for the training set: 1.00\n",
      "Accuracy for the test set: 0.83\n"
     ]
    }
   ],
   "source": [
    "# Show accuracy of the fitted tree on both the training and testing data\n",
    "y_train_pred = tree.predict(X_train)\n",
    "y_test_pred = tree.predict(X_test)\n",
    "\n",
    "accuracy_score_train = accuracy_score(y_true=y_train, y_pred=y_train_pred)\n",
    "accuracy_score_test = accuracy_score(y_true=y_test, y_pred=y_test_pred)\n",
    "\n",
    "print(f'Accuracy for the training set: {accuracy_score_train:.2f}')\n",
    "print(f'Accuracy for the test set: {accuracy_score_test:.2f}')"
   ]
  },
  {
   "cell_type": "code",
   "execution_count": 28,
   "id": "3813d453",
   "metadata": {},
   "outputs": [
    {
     "data": {
      "text/plain": [
       "BaggingClassifier(base_estimator=DecisionTreeClassifier(criterion='entropy',\n",
       "                                                        random_state=1),\n",
       "                  n_estimators=500, n_jobs=1, random_state=1)"
      ]
     },
     "execution_count": 28,
     "metadata": {},
     "output_type": "execute_result"
    }
   ],
   "source": [
    "# Fit the bagged model\n",
    "bag.fit(X_train, y_train)"
   ]
  },
  {
   "cell_type": "code",
   "execution_count": 29,
   "id": "1535c47e",
   "metadata": {
    "scrolled": true
   },
   "outputs": [
    {
     "name": "stdout",
     "output_type": "stream",
     "text": [
      "Accuracy for the training set: 1.00\n",
      "Accuracy for the test set: 0.92\n"
     ]
    }
   ],
   "source": [
    "# Show accuracy of the fitted bagging estimator on both the training and testing data\n",
    "y_train_pred = bag.predict(X_train)\n",
    "y_test_pred = bag.predict(X_test)\n",
    "\n",
    "accuracy_score_train = accuracy_score(y_true=y_train, y_pred=y_train_pred)\n",
    "accuracy_score_test = accuracy_score(y_true=y_test, y_pred=y_test_pred)\n",
    "\n",
    "print(f'Accuracy for the training set: {accuracy_score_train:.2f}')\n",
    "print(f'Accuracy for the test set: {accuracy_score_test:.2f}')"
   ]
  },
  {
   "cell_type": "code",
   "execution_count": 30,
   "id": "25d2c2fa",
   "metadata": {
    "scrolled": false
   },
   "outputs": [
    {
     "data": {
      "text/plain": [
       "Text(16, -0.5, 'Alcohol')"
      ]
     },
     "execution_count": 30,
     "metadata": {},
     "output_type": "execute_result"
    },
    {
     "data": {
      "image/png": "[encoded data removed]",
      "text/plain": [
       "<Figure size 800x300 with 2 Axes>"
      ]
     },
     "metadata": {},
     "output_type": "display_data"
    }
   ],
   "source": [
    "# Plot decision regions\n",
    "# These codes are similar to those in Ch7_EnsembleLearning_MajorityVote\n",
    "x_min = X_train[:,0].min() - 1 # x_min: min of the first feature - 1\n",
    "x_max = X_train[:,0].max() + 1 # x_max: max of the first feature + 1\n",
    "\n",
    "y_min = X_train[:,1].min() - 1 # y_min: min of the second feature - 1\n",
    "y_max = X_train[:,1].max() + 1 # y_max: max of the second feature + 1\n",
    "\n",
    "xx, yy = np.meshgrid(np.arange(x_min, x_max, 0.1), np.arange(y_min, y_max, 0.1))\n",
    "\n",
    "fig, axarr = plt.subplots(nrows=1, ncols=2, sharex='col', sharey='row', figsize=(8,3))\n",
    "\n",
    "for idx, clf, tt in zip([0,1], [tree, bag], ['Tree', 'Bagging']):\n",
    "    clf.fit(X_train, y_train)\n",
    "    Z = clf.predict(np.c_[xx.ravel(), yy.ravel()])\n",
    "    Z = Z.reshape(xx.shape)\n",
    "    axarr[idx].contourf(xx, yy, Z, alpha=0.3) # Plot decision regions\n",
    "    axarr[idx].scatter(X_train[y_train==0, 0], X_train[y_train==0, 1], color='blue', marker='^', s=50) #s: marker size in points**2\n",
    "    axarr[idx].scatter(X_train[y_train==1, 0], X_train[y_train==1, 1], color='green', marker='o', s=50)\n",
    "    axarr[idx].set_title(tt)\n",
    "    \n",
    "axarr[0].set_ylabel('OD280/OD315 of diluted wines')\n",
    "axarr[0].text(16, -0.5, 'Alcohol', ha='center', va='center') # ha, va: horizontal and verticle alignment of the text"
   ]
  },
  {
   "cell_type": "markdown",
   "id": "fb38b80a",
   "metadata": {},
   "source": [
    "## AdaBoost"
   ]
  },
  {
   "cell_type": "code",
   "execution_count": 31,
   "id": "8c4df64b",
   "metadata": {},
   "outputs": [],
   "source": [
    "# Create a tree stump\n",
    "tree = DecisionTreeClassifier(criterion='entropy', random_state=1, max_depth=1)\n",
    "ada = AdaBoostClassifier(base_estimator=tree, n_estimators=500, learning_rate=0.1, random_state=1)"
   ]
  },
  {
   "cell_type": "code",
   "execution_count": 32,
   "id": "34dace30",
   "metadata": {
    "scrolled": true
   },
   "outputs": [
    {
     "name": "stdout",
     "output_type": "stream",
     "text": [
      "Accuracy for the training set: 0.92\n",
      "Accuracy for the test set: 0.88\n"
     ]
    }
   ],
   "source": [
    "# Fit a single tree\n",
    "tree.fit(X_train, y_train)\n",
    "\n",
    "# Show accuracy of the fitted tree on both the training and testing data\n",
    "y_train_pred = tree.predict(X_train)\n",
    "y_test_pred = tree.predict(X_test)\n",
    "\n",
    "accuracy_score_train = accuracy_score(y_true=y_train, y_pred=y_train_pred)\n",
    "accuracy_score_test = accuracy_score(y_true=y_test, y_pred=y_test_pred)\n",
    "\n",
    "print(f'Accuracy for the training set: {accuracy_score_train:.2f}')\n",
    "print(f'Accuracy for the test set: {accuracy_score_test:.2f}')"
   ]
  },
  {
   "cell_type": "code",
   "execution_count": 33,
   "id": "5f7b0945",
   "metadata": {
    "scrolled": true
   },
   "outputs": [
    {
     "name": "stdout",
     "output_type": "stream",
     "text": [
      "Accuracy for the training set: 1.00\n",
      "Accuracy for the test set: 0.92\n"
     ]
    }
   ],
   "source": [
    "# Train the AdaBoost classifier\n",
    "ada = ada.fit(X_train, y_train)\n",
    "# Show accuracy \n",
    "y_train_pred = ada.predict(X_train)\n",
    "y_test_pred = ada.predict(X_test)\n",
    "\n",
    "accuracy_score_train = accuracy_score(y_true=y_train, y_pred=y_train_pred)\n",
    "accuracy_score_test = accuracy_score(y_true=y_test, y_pred=y_test_pred)\n",
    "\n",
    "print(f'Accuracy for the training set: {accuracy_score_train:.2f}')\n",
    "print(f'Accuracy for the test set: {accuracy_score_test:.2f}')"
   ]
  },
  {
   "cell_type": "code",
   "execution_count": 34,
   "id": "a0b20d98",
   "metadata": {
    "scrolled": true
   },
   "outputs": [
    {
     "data": {
      "text/plain": [
       "Text(16, -0.5, 'Alcohol')"
      ]
     },
     "execution_count": 34,
     "metadata": {},
     "output_type": "execute_result"
    },
    {
     "data": {
      "image/png": "[encoded data removed]",
      "text/plain": [
       "<Figure size 800x300 with 2 Axes>"
      ]
     },
     "metadata": {},
     "output_type": "display_data"
    }
   ],
   "source": [
    "# Plot decision regions\n",
    "# These codes are similar to those in Ch7_EnsembleLearning_MajorityVote\n",
    "x_min = X_train[:,0].min() - 1 # x_min: min of the first feature - 1\n",
    "x_max = X_train[:,0].max() + 1 # x_max: max of the first feature + 1\n",
    "\n",
    "y_min = X_train[:,1].min() - 1 # y_min: min of the second feature - 1\n",
    "y_max = X_train[:,1].max() + 1 # y_max: max of the second feature + 1\n",
    "\n",
    "xx, yy = np.meshgrid(np.arange(x_min, x_max, 0.1), np.arange(y_min, y_max, 0.1))\n",
    "\n",
    "fig, axarr = plt.subplots(nrows=1, ncols=2, sharex='col', sharey='row', figsize=(8,3))\n",
    "\n",
    "for idx, clf, tt in zip([0,1], [tree, ada], ['Tree', 'AdaBoost']):\n",
    "    clf.fit(X_train, y_train)\n",
    "    Z = clf.predict(np.c_[xx.ravel(), yy.ravel()])\n",
    "    Z = Z.reshape(xx.shape)\n",
    "    axarr[idx].contourf(xx, yy, Z, alpha=0.3) # Plot decision regions\n",
    "    axarr[idx].scatter(X_train[y_train==0, 0], X_train[y_train==0, 1], color='blue', marker='^', s=50) #s: marker size in points**2\n",
    "    axarr[idx].scatter(X_train[y_train==1, 0], X_train[y_train==1, 1], color='green', marker='o', s=50)\n",
    "    axarr[idx].set_title(tt)\n",
    "    \n",
    "axarr[0].set_ylabel('OD280/OD315 of diluted wines')\n",
    "axarr[0].text(16, -0.5, 'Alcohol', ha='center', va='center') # ha, va: horizontal and verticle alignment of the text"
   ]
  },
  {
   "cell_type": "markdown",
   "id": "923ec75e",
   "metadata": {},
   "source": [
    "## XGBoost"
   ]
  },
  {
   "cell_type": "code",
   "execution_count": 37,
   "id": "885e0916",
   "metadata": {},
   "outputs": [],
   "source": [
    "xgb_classifier = xgb.XGBClassifier(n_estimators=1000, learning_rate=0.01, max_depth=4, \n",
    "                                   random_state=1)"
   ]
  },
  {
   "cell_type": "code",
   "execution_count": 38,
   "id": "598f3741",
   "metadata": {},
   "outputs": [
    {
     "data": {
      "text/plain": [
       "XGBClassifier(base_score=None, booster=None, callbacks=None,\n",
       "              colsample_bylevel=None, colsample_bynode=None,\n",
       "              colsample_bytree=None, early_stopping_rounds=None,\n",
       "              enable_categorical=False, eval_metric=None, feature_types=None,\n",
       "              gamma=None, gpu_id=None, grow_policy=None, importance_type=None,\n",
       "              interaction_constraints=None, learning_rate=0.01, max_bin=None,\n",
       "              max_cat_threshold=None, max_cat_to_onehot=None,\n",
       "              max_delta_step=None, max_depth=4, max_leaves=None,\n",
       "              min_child_weight=None, missing=nan, monotone_constraints=None,\n",
       "              n_estimators=1000, n_jobs=None, num_parallel_tree=None,\n",
       "              predictor=None, random_state=1, ...)"
      ]
     },
     "execution_count": 38,
     "metadata": {},
     "output_type": "execute_result"
    }
   ],
   "source": [
    "xgb_classifier.fit(X_train, y_train)"
   ]
  },
  {
   "cell_type": "code",
   "execution_count": 39,
   "id": "e442ea16",
   "metadata": {},
   "outputs": [
    {
     "name": "stdout",
     "output_type": "stream",
     "text": [
      "Accuracy for the training set: 1.00\n",
      "Accuracy for the test set: 0.92\n"
     ]
    }
   ],
   "source": [
    "y_train_pred = xgb_classifier.predict(X_train)\n",
    "y_test_pred = xgb_classifier.predict(X_test)\n",
    "\n",
    "accuracy_score_train_xgb = accuracy_score(y_true=y_train, y_pred=y_train_pred)\n",
    "accuracy_score_test_xgb = accuracy_score(y_true=y_test, y_pred=y_test_pred)\n",
    "\n",
    "print(f'Accuracy for the training set: {accuracy_score_train:.2f}')\n",
    "print(f'Accuracy for the test set: {accuracy_score_test:.2f}')"
   ]
  }
 ],
 "metadata": {
  "kernelspec": {
   "display_name": "Python 3 (ipykernel)",
   "language": "python",
   "name": "python3"
  },
  "language_info": {
   "codemirror_mode": {
    "name": "ipython",
    "version": 3
   },
   "file_extension": ".py",
   "mimetype": "text/x-python",
   "name": "python",
   "nbconvert_exporter": "python",
   "pygments_lexer": "ipython3",
   "version": "3.9.13"
  }
 },
 "nbformat": 4,
 "nbformat_minor": 5
}
