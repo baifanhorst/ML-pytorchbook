{
 "cells": [
  {
   "cell_type": "markdown",
   "id": "16b3fc8f",
   "metadata": {},
   "source": [
    "## Summary\n",
    "(1) The key to build a dense network is to define a mode class that reflect the structure of the network.   \n",
    "(2) To train the model, we define the for loops ourselves. For each batch, there are several typical steps: prediction, calculating loss, backpropagation, update parameter, set gradients to zeros.   \n",
    "(3) Several new functions are used: sigmoid, softmax, cross-entropy.   \n",
    "(4) Save and load the trained model"
   ]
  },
  {
   "cell_type": "code",
   "execution_count": 1,
   "id": "18d49f54",
   "metadata": {},
   "outputs": [],
   "source": [
    "import numpy as np\n",
    "import matplotlib.pyplot as plt\n",
    "\n",
    "from sklearn.datasets import load_iris\n",
    "from sklearn.model_selection import train_test_split\n",
    "\n",
    "import torch"
   ]
  },
  {
   "cell_type": "code",
   "execution_count": 2,
   "id": "d6bc2a88",
   "metadata": {},
   "outputs": [],
   "source": [
    "# Load iris dataset\n",
    "iris = load_iris()\n",
    "X = iris['data']\n",
    "y = iris['target']"
   ]
  },
  {
   "cell_type": "code",
   "execution_count": 3,
   "id": "884ab6e2",
   "metadata": {},
   "outputs": [],
   "source": [
    "# Split the data\n",
    "X_train, X_test, y_train, y_test = train_test_split(X, y, test_size=1.0/3.0, \n",
    "                                                    random_state=1, stratify=y) "
   ]
  },
  {
   "cell_type": "code",
   "execution_count": 4,
   "id": "625fc4d9",
   "metadata": {},
   "outputs": [],
   "source": [
    "# Normalization and conversion to tensors\n",
    "X_train_norm = (X_train - np.mean(X_train)) / np.std(X_train)\n",
    "X_train_norm_tensor = torch.from_numpy(X_train_norm).float() # Convert to float32\n",
    "\n",
    "y_train_tensor = torch.from_numpy(y_train) # No need to convert y_train"
   ]
  },
  {
   "cell_type": "code",
   "execution_count": 5,
   "id": "a33eb75c",
   "metadata": {},
   "outputs": [
    {
     "data": {
      "text/plain": [
       "['sepal length (cm)',\n",
       " 'sepal width (cm)',\n",
       " 'petal length (cm)',\n",
       " 'petal width (cm)']"
      ]
     },
     "execution_count": 5,
     "metadata": {},
     "output_type": "execute_result"
    }
   ],
   "source": [
    "# Explanations on the above codes\n",
    "iris['feature_names']\n",
    "# We can see that the four features are all about lengths. Therefore we can normalize the features by the mean of all X data."
   ]
  },
  {
   "cell_type": "code",
   "execution_count": 6,
   "id": "9ed22ceb",
   "metadata": {
    "scrolled": false
   },
   "outputs": [],
   "source": [
    "# Create dataset and dataloader\n",
    "batch_size = 2\n",
    "dataset_train = torch.utils.data.TensorDataset(X_train_norm_tensor, y_train_tensor)\n",
    "dataloader_train = torch.utils.data.DataLoader(dataset_train, batch_size=batch_size, shuffle=True)"
   ]
  },
  {
   "cell_type": "code",
   "execution_count": 7,
   "id": "c3ec3eed",
   "metadata": {},
   "outputs": [],
   "source": [
    "# Define a fully connected network (dense network)\n",
    "class Model(torch.nn.Module):\n",
    "    def __init__(self, input_size, hidden_size, output_size):\n",
    "        super().__init__()\n",
    "        self.layer1 = torch.nn.Linear(input_size, hidden_size)\n",
    "        self.layer2 = torch.nn.Linear(hidden_size, output_size)\n",
    "    def forward(self, X):\n",
    "        # When X is a 2D tensor containing multiple examples, self.layer1 is applied to each row of X\n",
    "        X = self.layer1(X)\n",
    "        # torch.nn.Sigmoid applies sigmoid function to each entry in X\n",
    "        X = torch.nn.Sigmoid()(X)\n",
    "        X = self.layer2(X)\n",
    "        # torch.nn.Softmax converts each row of X into probabilities so that each row sums up to 1.\n",
    "        X = torch.nn.Softmax(dim=1)(X)\n",
    "        return X"
   ]
  },
  {
   "cell_type": "code",
   "execution_count": 8,
   "id": "a64a532b",
   "metadata": {},
   "outputs": [],
   "source": [
    "# The input size is the number of features\n",
    "input_size = X_train.shape[1]\n",
    "# The hidden size is the number of neurons in the hidden layer, specified by the user\n",
    "hidden_size = 16\n",
    "# The output size is the number of labels\n",
    "output_size = len(np.unique(y_train))\n",
    "\n",
    "model = Model(input_size, hidden_size, output_size)"
   ]
  },
  {
   "cell_type": "code",
   "execution_count": 9,
   "id": "4e78396a",
   "metadata": {},
   "outputs": [],
   "source": [
    "# Create loss function and optimizer\n",
    "# torch.nn.CrossEntropyLoss(reduction='mean')(prediction, y_label):\n",
    "# prediction's shape is (num_examples, num_classes). It contains the predicted class probabilities of the examples.\n",
    "# y_label's shape is (num_examples,). It contains the true labels of the examples.\n",
    "loss_fn = torch.nn.CrossEntropyLoss(reduction='mean')\n",
    "optimizer = torch.optim.Adam(model.parameters(), lr=0.001)"
   ]
  },
  {
   "cell_type": "code",
   "execution_count": 12,
   "id": "25bb5afd",
   "metadata": {
    "scrolled": true
   },
   "outputs": [
    {
     "name": "stdout",
     "output_type": "stream",
     "text": [
      "Epoch 0, Loss 0.5952386093139649 Accuracy 0.9599999785423279\n",
      "Epoch 10, Loss 0.5927619647979736 Accuracy 0.9700000286102295\n",
      "Epoch 20, Loss 0.5917299032211304 Accuracy 0.9700000286102295\n",
      "Epoch 30, Loss 0.5907225549221039 Accuracy 0.9700000286102295\n",
      "Epoch 40, Loss 0.5906791305541992 Accuracy 0.9700000286102295\n",
      "Epoch 50, Loss 0.5882589030265808 Accuracy 0.9700000286102295\n",
      "Epoch 60, Loss 0.5876824724674224 Accuracy 0.9700000286102295\n",
      "Epoch 70, Loss 0.5867908024787902 Accuracy 0.9700000286102295\n",
      "Epoch 80, Loss 0.5862127125263215 Accuracy 0.9700000286102295\n",
      "Epoch 90, Loss 0.5863092339038849 Accuracy 0.9700000286102295\n",
      "Epoch 100, Loss 0.5853875827789307 Accuracy 0.9700000286102295\n",
      "Epoch 110, Loss 0.5842335605621338 Accuracy 0.9700000286102295\n",
      "Epoch 120, Loss 0.5842135059833526 Accuracy 0.9700000286102295\n",
      "Epoch 130, Loss 0.5836724698543548 Accuracy 0.9700000286102295\n",
      "Epoch 140, Loss 0.5832864689826965 Accuracy 0.9700000286102295\n",
      "Epoch 150, Loss 0.5827405047416687 Accuracy 0.9700000286102295\n",
      "Epoch 160, Loss 0.5822437989711762 Accuracy 0.9700000286102295\n",
      "Epoch 170, Loss 0.5817877650260925 Accuracy 0.9700000286102295\n",
      "Epoch 180, Loss 0.581632343530655 Accuracy 0.9700000286102295\n",
      "Epoch 190, Loss 0.5812709391117096 Accuracy 0.9700000286102295\n"
     ]
    }
   ],
   "source": [
    "# Train the model\n",
    "num_epoch = 200\n",
    "\n",
    "# Lists to store the histories of loss and accuracy\n",
    "loss_list = [0] * num_epoch\n",
    "accuracy_list = [0] * num_epoch\n",
    "\n",
    "# Number of batches and examples, used for calculating averages\n",
    "num_batch = len(dataloader_train.dataset)/batch_size\n",
    "\n",
    "# Train the model\n",
    "for epoch in range(num_epoch):\n",
    "    for x_batch, y_batch in dataloader_train:\n",
    "        prediction = model(x_batch)\n",
    "        loss = loss_fn(prediction, y_batch.long()) # y_batch.long() converts y_batch into long int. Without the conversion there will be error message.\n",
    "        loss.backward()\n",
    "        optimizer.step()\n",
    "        optimizer.zero_grad()\n",
    "        loss_list[epoch] += loss.item()\n",
    "        # torch.argmax(prediction, dim=1) returns the label of the maximum entry along each row\n",
    "        # The result is a 1D tensor with the same shape as y_batch\n",
    "        # torch.argmax(prediction, dim=1) == y_batch returns a boolean matrix\n",
    "        is_correct = (torch.argmax(prediction, dim=1) == y_batch).float()\n",
    "        accuracy_list[epoch] += is_correct.mean()\n",
    "    \n",
    "    # The loss for each batch is an average over the batch. Therefore we divide it by the number of batches instead of the number of examples\n",
    "    # Similary, the accuracy is divided by the number of batches.\n",
    "    loss_list[epoch] /= num_batch\n",
    "    accuracy_list[epoch] /= num_batch\n",
    "    \n",
    "    if epoch % 10 == 0:\n",
    "        print(f\"Epoch {epoch}, Loss {loss_list[epoch]} Accuracy {accuracy_list[epoch]}\")"
   ]
  },
  {
   "cell_type": "code",
   "execution_count": 13,
   "id": "9866250c",
   "metadata": {
    "scrolled": true
   },
   "outputs": [
    {
     "data": {
      "text/plain": [
       "Text(0, 0.5, 'Accuracy')"
      ]
     },
     "execution_count": 13,
     "metadata": {},
     "output_type": "execute_result"
    },
    {
     "data": {
      "image/png": "[encoded data removed]",
      "text/plain": [
       "<Figure size 640x480 with 2 Axes>"
      ]
     },
     "metadata": {},
     "output_type": "display_data"
    }
   ],
   "source": [
    "# Show the loss and accuracy\n",
    "fig = plt.figure()\n",
    "ax = fig.add_subplot(121)\n",
    "\n",
    "ax.plot(loss_list)\n",
    "ax.set_xlabel(\"Epoch\")\n",
    "ax.set_ylabel(\"Loss\")\n",
    "\n",
    "ax = fig.add_subplot(122)\n",
    "ax.plot(accuracy_list)\n",
    "ax.set_xlabel(\"Epoch\")\n",
    "ax.set_ylabel(\"Accuracy\")"
   ]
  },
  {
   "cell_type": "code",
   "execution_count": 14,
   "id": "94e7fb57",
   "metadata": {
    "scrolled": true
   },
   "outputs": [
    {
     "name": "stdout",
     "output_type": "stream",
     "text": [
      "Accuracy on the test set: tensor(0.9600)\n"
     ]
    }
   ],
   "source": [
    "# Evaluate model on the test set\n",
    "X_test_norm = (X_test - np.mean(X_train)) / np.std(X_train)\n",
    "X_test_norm_tensor = torch.from_numpy(X_test_norm).float()\n",
    "y_test_tensor = torch.from_numpy(y_test)\n",
    "prediction_test = model(X_test_norm_tensor)\n",
    "\n",
    "is_correct = (torch.argmax(prediction_test, dim=1) == y_test_tensor).float()\n",
    "accuracy = is_correct.mean()\n",
    "\n",
    "print('Accuracy on the test set:', accuracy)"
   ]
  },
  {
   "cell_type": "markdown",
   "id": "7aed4882",
   "metadata": {},
   "source": [
    "## Saving and reloading the trained model"
   ]
  },
  {
   "cell_type": "code",
   "execution_count": 17,
   "id": "3b91581d",
   "metadata": {},
   "outputs": [],
   "source": [
    "# Save the model\n",
    "path = 'saved_model/iris_classifier.pt'\n",
    "torch.save(model, path)"
   ]
  },
  {
   "cell_type": "code",
   "execution_count": 18,
   "id": "15ebdae5",
   "metadata": {},
   "outputs": [],
   "source": [
    "# Load the model\n",
    "model_saved = torch.load(path)"
   ]
  },
  {
   "cell_type": "code",
   "execution_count": 19,
   "id": "42ea5f67",
   "metadata": {
    "scrolled": true
   },
   "outputs": [
    {
     "data": {
      "text/plain": [
       "Model(\n",
       "  (layer1): Linear(in_features=4, out_features=16, bias=True)\n",
       "  (layer2): Linear(in_features=16, out_features=3, bias=True)\n",
       ")"
      ]
     },
     "execution_count": 19,
     "metadata": {},
     "output_type": "execute_result"
    }
   ],
   "source": [
    "# Show the model structure\n",
    "model_saved.eval()"
   ]
  },
  {
   "cell_type": "code",
   "execution_count": 20,
   "id": "e8d5400b",
   "metadata": {
    "scrolled": true
   },
   "outputs": [
    {
     "name": "stdout",
     "output_type": "stream",
     "text": [
      "Accuracy on the test set: tensor(0.9600)\n"
     ]
    }
   ],
   "source": [
    "# Test the saved model's accuracy\n",
    "prediction_test = model_saved(X_test_norm_tensor)\n",
    "is_correct = (torch.argmax(prediction_test, dim=1) == y_test_tensor).float()\n",
    "accuracy = is_correct.mean()\n",
    "print('Accuracy on the test set:', accuracy)"
   ]
  },
  {
   "cell_type": "code",
   "execution_count": 21,
   "id": "e069f254",
   "metadata": {},
   "outputs": [],
   "source": [
    "# Only save the learned parameters\n",
    "path = 'saved_model/iris_classifier_state.pt'\n",
    "torch.save(model.state_dict(), path)"
   ]
  },
  {
   "cell_type": "code",
   "execution_count": 22,
   "id": "f5226232",
   "metadata": {
    "scrolled": false
   },
   "outputs": [
    {
     "data": {
      "text/plain": [
       "<All keys matched successfully>"
      ]
     },
     "execution_count": 22,
     "metadata": {},
     "output_type": "execute_result"
    }
   ],
   "source": [
    "# Create a new model and assign the saved paramter values to this model\n",
    "model_new = Model(input_size, hidden_size, output_size)\n",
    "model_new.load_state_dict(torch.load(path))"
   ]
  },
  {
   "cell_type": "code",
   "execution_count": 24,
   "id": "600e8051",
   "metadata": {},
   "outputs": [
    {
     "name": "stdout",
     "output_type": "stream",
     "text": [
      "Accuracy on the test set: tensor(0.9600)\n"
     ]
    }
   ],
   "source": [
    "# Test the new model's accuracy\n",
    "prediction_test = model_new(X_test_norm_tensor)\n",
    "is_correct = (torch.argmax(prediction_test, dim=1) == y_test_tensor).float()\n",
    "accuracy = is_correct.mean()\n",
    "print('Accuracy on the test set:', accuracy)"
   ]
  }
 ],
 "metadata": {
  "kernelspec": {
   "display_name": "Python 3 (ipykernel)",
   "language": "python",
   "name": "python3"
  },
  "language_info": {
   "codemirror_mode": {
    "name": "ipython",
    "version": 3
   },
   "file_extension": ".py",
   "mimetype": "text/x-python",
   "name": "python",
   "nbconvert_exporter": "python",
   "pygments_lexer": "ipython3",
   "version": "3.9.13"
  }
 },
 "nbformat": 4,
 "nbformat_minor": 5
}
