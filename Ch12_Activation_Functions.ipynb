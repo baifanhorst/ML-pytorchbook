{
 "cells": [
  {
   "cell_type": "code",
   "execution_count": 15,
   "id": "d08c492e",
   "metadata": {},
   "outputs": [],
   "source": [
    "import numpy as np\n",
    "import matplotlib.pyplot as plt\n",
    "import torch"
   ]
  },
  {
   "cell_type": "markdown",
   "id": "d7ee943e",
   "metadata": {},
   "source": [
    "## Sigmoid function"
   ]
  },
  {
   "cell_type": "code",
   "execution_count": 2,
   "id": "d5b07ada",
   "metadata": {},
   "outputs": [],
   "source": [
    "X = np.array([1, 1.4, 2.5])\n",
    "w = np.array([0.4, 0.3, 0.5])"
   ]
  },
  {
   "cell_type": "code",
   "execution_count": 3,
   "id": "3307c402",
   "metadata": {},
   "outputs": [],
   "source": [
    "# Note that the bias is included in w, which means that the first entry of X must be 1\n",
    "def net_input(X, w):\n",
    "    return np.dot(X, w)"
   ]
  },
  {
   "cell_type": "code",
   "execution_count": 4,
   "id": "941bc5f1",
   "metadata": {},
   "outputs": [],
   "source": [
    "def logistic(z):\n",
    "    return 1.0 / (1 + np.exp(-z))"
   ]
  },
  {
   "cell_type": "code",
   "execution_count": 5,
   "id": "72864b26",
   "metadata": {},
   "outputs": [],
   "source": [
    "def logistic_activation(X, w):\n",
    "    z = net_input(X, w)\n",
    "    return logistic(z)"
   ]
  },
  {
   "cell_type": "code",
   "execution_count": 6,
   "id": "a78cb591",
   "metadata": {},
   "outputs": [
    {
     "data": {
      "text/plain": [
       "0.8879529614430097"
      ]
     },
     "execution_count": 6,
     "metadata": {},
     "output_type": "execute_result"
    }
   ],
   "source": [
    "logistic_activation(X, w)"
   ]
  },
  {
   "cell_type": "code",
   "execution_count": 13,
   "id": "22f9596d",
   "metadata": {
    "scrolled": true
   },
   "outputs": [
    {
     "name": "stdout",
     "output_type": "stream",
     "text": [
      "[1.78 0.76 1.65]\n",
      "[0.85569687 0.68135373 0.83889105]\n"
     ]
    }
   ],
   "source": [
    "# Another example\n",
    "# Recall that to understand the format of the weight matrix, we can think of the input as a column vector.\n",
    "W = np.array([[1.1, 1.2, 0.8, 0.4],\n",
    "              [0.2, 0.4, 1.0, 0.2],\n",
    "              [0.6, 1.5, 1.2, 0.7]])\n",
    "# This mimic how an example is stored: as a single row.\n",
    "A = np.array([[1, 0.1, 0.4, 0.6]])\n",
    "# A[0] extracts the first row, which can be multiplied with W through dot product\n",
    "Z = np.dot(W, A[0])\n",
    "y = logistic(Z)\n",
    "print(Z)\n",
    "print(y)\n",
    "# Note that y cannot be interpreted as class probabilities since the three number do not add up to 1."
   ]
  },
  {
   "cell_type": "code",
   "execution_count": 29,
   "id": "02123307",
   "metadata": {},
   "outputs": [
    {
     "data": {
      "text/plain": [
       "tensor([0.8557, 0.6814, 0.8389], dtype=torch.float64)"
      ]
     },
     "execution_count": 29,
     "metadata": {},
     "output_type": "execute_result"
    }
   ],
   "source": [
    "# In pytorch\n",
    "torch.sigmoid(torch.from_numpy(Z))"
   ]
  },
  {
   "cell_type": "markdown",
   "id": "b3b995b6",
   "metadata": {},
   "source": [
    "## Softmax"
   ]
  },
  {
   "cell_type": "code",
   "execution_count": 11,
   "id": "2183ef2a",
   "metadata": {},
   "outputs": [],
   "source": [
    "def softmax(z):\n",
    "    return np.exp(z) / np.sum(np.exp(z))"
   ]
  },
  {
   "cell_type": "code",
   "execution_count": 14,
   "id": "b69a2a84",
   "metadata": {
    "scrolled": true
   },
   "outputs": [
    {
     "name": "stdout",
     "output_type": "stream",
     "text": [
      "[0.44668973 0.16107406 0.39223621]\n"
     ]
    }
   ],
   "source": [
    "y_prob = softmax(Z)\n",
    "print(y_prob)"
   ]
  },
  {
   "cell_type": "code",
   "execution_count": 17,
   "id": "eb6b36bf",
   "metadata": {
    "scrolled": true
   },
   "outputs": [
    {
     "data": {
      "text/plain": [
       "tensor([0.4467, 0.1611, 0.3922], dtype=torch.float64)"
      ]
     },
     "execution_count": 17,
     "metadata": {},
     "output_type": "execute_result"
    }
   ],
   "source": [
    "# Softmax in pytorch\n",
    "torch.softmax(torch.from_numpy(Z), dim=0)"
   ]
  },
  {
   "cell_type": "code",
   "execution_count": 21,
   "id": "874f66ad",
   "metadata": {
    "scrolled": true
   },
   "outputs": [
    {
     "data": {
      "text/plain": [
       "tensor([0.4467, 0.1611, 0.3922], dtype=torch.float64)"
      ]
     },
     "execution_count": 21,
     "metadata": {},
     "output_type": "execute_result"
    }
   ],
   "source": [
    "# Another softmax in torch.nn\n",
    "torch.nn.Softmax(dim=0)(torch.from_numpy(Z))"
   ]
  },
  {
   "cell_type": "markdown",
   "id": "3a9ac379",
   "metadata": {},
   "source": [
    "## Hypobolic tangent (tanh)"
   ]
  },
  {
   "cell_type": "code",
   "execution_count": 22,
   "id": "6e49ff6c",
   "metadata": {},
   "outputs": [],
   "source": [
    "def tanh(z):\n",
    "    ep = np.exp(z)\n",
    "    en = np.exp(-z)\n",
    "    return (ep-en) / (ep + en)"
   ]
  },
  {
   "cell_type": "code",
   "execution_count": 27,
   "id": "31a887af",
   "metadata": {
    "scrolled": true
   },
   "outputs": [
    {
     "data": {
      "text/plain": [
       "<matplotlib.legend.Legend at 0x1f957689190>"
      ]
     },
     "execution_count": 27,
     "metadata": {},
     "output_type": "execute_result"
    },
    {
     "data": {
      "image/png": "[encoded data removed]",
      "text/plain": [
       "<Figure size 640x480 with 1 Axes>"
      ]
     },
     "metadata": {},
     "output_type": "display_data"
    }
   ],
   "source": [
    "# Visualize logistic and tanh\n",
    "x = np.linspace(-5, 5, 100)\n",
    "y_logistic = logistic(x)\n",
    "y_tanh = tanh(x)\n",
    "\n",
    "fig = plt.figure()\n",
    "ax = fig.add_subplot(111)\n",
    "ax.plot(x, y_logistic, label=\"logistic\")\n",
    "ax.plot(x, y_tanh, label=\"tanh\")\n",
    "ax.axhline(y=0, linestyle=\"dotted\", color='grey')\n",
    "ax.legend()\n"
   ]
  },
  {
   "cell_type": "code",
   "execution_count": 28,
   "id": "8cc221eb",
   "metadata": {},
   "outputs": [
    {
     "data": {
      "text/plain": [
       "tensor([-0.9999, -0.9999, -0.9999, -0.9998, -0.9998, -0.9998, -0.9997, -0.9996,\n",
       "        -0.9995, -0.9994, -0.9993, -0.9992, -0.9990, -0.9987, -0.9985, -0.9981,\n",
       "        -0.9977, -0.9972, -0.9966, -0.9958, -0.9949, -0.9937, -0.9923, -0.9906,\n",
       "        -0.9885, -0.9859, -0.9828, -0.9790, -0.9743, -0.9687, -0.9618, -0.9535,\n",
       "        -0.9434, -0.9311, -0.9163, -0.8986, -0.8772, -0.8518, -0.8216, -0.7859,\n",
       "        -0.7441, -0.6955, -0.6396, -0.5761, -0.5047, -0.4256, -0.3395, -0.2473,\n",
       "        -0.1504, -0.0505,  0.0505,  0.1504,  0.2473,  0.3395,  0.4256,  0.5047,\n",
       "         0.5761,  0.6396,  0.6955,  0.7441,  0.7859,  0.8216,  0.8518,  0.8772,\n",
       "         0.8986,  0.9163,  0.9311,  0.9434,  0.9535,  0.9618,  0.9687,  0.9743,\n",
       "         0.9790,  0.9828,  0.9859,  0.9885,  0.9906,  0.9923,  0.9937,  0.9949,\n",
       "         0.9958,  0.9966,  0.9972,  0.9977,  0.9981,  0.9985,  0.9987,  0.9990,\n",
       "         0.9992,  0.9993,  0.9994,  0.9995,  0.9996,  0.9997,  0.9998,  0.9998,\n",
       "         0.9998,  0.9999,  0.9999,  0.9999], dtype=torch.float64)"
      ]
     },
     "execution_count": 28,
     "metadata": {},
     "output_type": "execute_result"
    }
   ],
   "source": [
    "# In pytorch\n",
    "torch.tanh(torch.from_numpy(x))"
   ]
  }
 ],
 "metadata": {
  "kernelspec": {
   "display_name": "Python 3 (ipykernel)",
   "language": "python",
   "name": "python3"
  },
  "language_info": {
   "codemirror_mode": {
    "name": "ipython",
    "version": 3
   },
   "file_extension": ".py",
   "mimetype": "text/x-python",
   "name": "python",
   "nbconvert_exporter": "python",
   "pygments_lexer": "ipython3",
   "version": "3.9.13"
  }
 },
 "nbformat": 4,
 "nbformat_minor": 5
}
