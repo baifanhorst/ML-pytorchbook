{
 "cells": [
  {
   "cell_type": "markdown",
   "id": "fedb102a",
   "metadata": {},
   "source": [
    "This notebook is used to get familiar with AdaBoost algorithm"
   ]
  },
  {
   "cell_type": "code",
   "execution_count": 1,
   "id": "c11bea50",
   "metadata": {},
   "outputs": [],
   "source": [
    "import numpy as np"
   ]
  },
  {
   "cell_type": "code",
   "execution_count": 2,
   "id": "8ecde0fa",
   "metadata": {},
   "outputs": [],
   "source": [
    "y = np.array([1,1,1,-1,-1,-1,1,1,1,-1])\n",
    "yhat = np.array([1,1,1,-1,-1,-1,-1,-1,-1,-1])"
   ]
  },
  {
   "cell_type": "code",
   "execution_count": 6,
   "id": "96c835c3",
   "metadata": {
    "scrolled": true
   },
   "outputs": [
    {
     "data": {
      "text/plain": [
       "array([ True,  True,  True,  True,  True,  True, False, False, False,\n",
       "        True])"
      ]
     },
     "execution_count": 6,
     "metadata": {},
     "output_type": "execute_result"
    }
   ],
   "source": [
    "correct = (y==yhat)"
   ]
  },
  {
   "cell_type": "code",
   "execution_count": 9,
   "id": "bcadb227",
   "metadata": {},
   "outputs": [],
   "source": [
    "weights = np.full(10, 0.1) #Return a new array of given shape and type, filled with the given value"
   ]
  },
  {
   "cell_type": "code",
   "execution_count": 11,
   "id": "fce522c4",
   "metadata": {
    "scrolled": true
   },
   "outputs": [],
   "source": [
    "epsilon = np.sum(weights[~correct])"
   ]
  },
  {
   "cell_type": "code",
   "execution_count": 13,
   "id": "2c983908",
   "metadata": {},
   "outputs": [],
   "source": [
    "alpha_j = 0.5 * np.log(1/epsilon-1)"
   ]
  },
  {
   "cell_type": "code",
   "execution_count": 19,
   "id": "ea765593",
   "metadata": {
    "scrolled": true
   },
   "outputs": [],
   "source": [
    "weights = weights * np.exp(-alpha_j * y * yhat)"
   ]
  },
  {
   "cell_type": "code",
   "execution_count": 21,
   "id": "90bec792",
   "metadata": {},
   "outputs": [],
   "source": [
    "weights = weights/np.sum(weights)"
   ]
  },
  {
   "cell_type": "code",
   "execution_count": 22,
   "id": "285bd8bd",
   "metadata": {},
   "outputs": [
    {
     "data": {
      "text/plain": [
       "array([0.07142857, 0.07142857, 0.07142857, 0.07142857, 0.07142857,\n",
       "       0.07142857, 0.16666667, 0.16666667, 0.16666667, 0.07142857])"
      ]
     },
     "execution_count": 22,
     "metadata": {},
     "output_type": "execute_result"
    }
   ],
   "source": [
    "weights"
   ]
  }
 ],
 "metadata": {
  "kernelspec": {
   "display_name": "Python 3 (ipykernel)",
   "language": "python",
   "name": "python3"
  },
  "language_info": {
   "codemirror_mode": {
    "name": "ipython",
    "version": 3
   },
   "file_extension": ".py",
   "mimetype": "text/x-python",
   "name": "python",
   "nbconvert_exporter": "python",
   "pygments_lexer": "ipython3",
   "version": "3.9.13"
  }
 },
 "nbformat": 4,
 "nbformat_minor": 5
}
