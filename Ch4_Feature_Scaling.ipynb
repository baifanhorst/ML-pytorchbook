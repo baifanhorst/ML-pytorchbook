{
 "cells": [
  {
   "cell_type": "markdown",
   "id": "a6d2143e",
   "metadata": {},
   "source": [
    "Two approaches: normalization and standardization   \n",
    "\n",
    "Normoalization: rescale to [0,1], which can be done by min-max scaling:\n",
    "$$x_{norm}^{(i)} = \\frac{x^{(i)}-x_{min}}{x_{max}-x_{min}}$$\n",
    "Standardization:\n",
    "$$x_{std}^{(i)} = \\frac{x^{(i)}-\\mu_x}{\\sigma_x}$$\n",
    "\n",
    "Among other scalers, RobustScaler is recommended if:   \n",
    "(1) there are many outliers   \n",
    "(2) the model is prone to overfitting   \n",
    "RobustScaler makes outliers less pronounced."
   ]
  },
  {
   "cell_type": "code",
   "execution_count": 9,
   "id": "5f738acb",
   "metadata": {},
   "outputs": [],
   "source": [
    "import pandas as pd\n",
    "import numpy as np\n",
    "\n",
    "# For data splitting\n",
    "from sklearn.model_selection import train_test_split\n",
    "# For min-max rescaling\n",
    "from sklearn.preprocessing import MinMaxScaler\n",
    "# For standardization\n",
    "from sklearn.preprocessing import StandardScaler"
   ]
  },
  {
   "cell_type": "code",
   "execution_count": 2,
   "id": "404932a3",
   "metadata": {},
   "outputs": [],
   "source": [
    "# Read the online wine data set with no headers\n",
    "df_wine = pd.read_csv('https://archive.ics.uci.edu/ml/machine-learning-databases/wine/wine.data', header=None)\n",
    "\n",
    "# Assign column labels\n",
    "# The feature names can be found online.\n",
    "df_wine.columns = ['Class label', \n",
    "              'Alcohol', \n",
    "              'Malic acid', \n",
    "              'Ash', \n",
    "              'Alcalinity of ash', \n",
    "              'Magnesium', \n",
    "              'Total phenols', \n",
    "              'Flavanoids', \n",
    "              'Nonflavanoid phenols', \n",
    "              'Proanthocyanins', \n",
    "              'Color intensity', \n",
    "              'Hue', \n",
    "              'OD280/OD315 of diluted wines', \n",
    "              'Proline']"
   ]
  },
  {
   "cell_type": "code",
   "execution_count": 3,
   "id": "252baf98",
   "metadata": {},
   "outputs": [],
   "source": [
    "# Split the data set into a training set and a test set\n",
    "y = df_wine.iloc[:, 0].values\n",
    "X = df_wine.iloc[:, 1:].values\n",
    "X_train, X_test, y_train, y_test = train_test_split(X, y, test_size=0.3, random_state=0, stratify=y)\n",
    "# test_size=0.3: the testing set contains 30% data\n",
    "# stratify=y: both the train and testing sets have the same class proportions as the original dataset."
   ]
  },
  {
   "cell_type": "code",
   "execution_count": 6,
   "id": "f7727997",
   "metadata": {},
   "outputs": [],
   "source": [
    "# Min-max rescaling\n",
    "# Create a scaler\n",
    "mms= MinMaxScaler()\n",
    "# Fit and transform the training set\n",
    "X_train_norm = mms.fit_transform(X_train)\n",
    "# Transform the testing set with the same scaler\n",
    "X_test_norm = mms.transform(X_test)"
   ]
  },
  {
   "cell_type": "code",
   "execution_count": 10,
   "id": "b0cd69c9",
   "metadata": {},
   "outputs": [],
   "source": [
    "# Standardization\n",
    "# Create a scaler\n",
    "stdsc = StandardScaler()\n",
    "# Fit and transform the training set\n",
    "X_train_std = stdsc.fit_transform(X_train)\n",
    "# Transform the testing set with the same scaler\n",
    "X_test_std = stdsc.transform(X_test)"
   ]
  }
 ],
 "metadata": {
  "kernelspec": {
   "display_name": "Python 3 (ipykernel)",
   "language": "python",
   "name": "python3"
  },
  "language_info": {
   "codemirror_mode": {
    "name": "ipython",
    "version": 3
   },
   "file_extension": ".py",
   "mimetype": "text/x-python",
   "name": "python",
   "nbconvert_exporter": "python",
   "pygments_lexer": "ipython3",
   "version": "3.9.13"
  }
 },
 "nbformat": 4,
 "nbformat_minor": 5
}
